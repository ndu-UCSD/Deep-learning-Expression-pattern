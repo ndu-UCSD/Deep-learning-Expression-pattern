{
 "cells": [
  {
   "cell_type": "code",
   "execution_count": 1,
   "metadata": {
    "collapsed": true
   },
   "outputs": [],
   "source": [
    "# Load in all useful libraries\n",
    "import tensorflow as tf\n",
    "import pandas as pd\n",
    "import numpy as np\n",
    "import matplotlib.pyplot as plt\n",
    "import seaborn as sns\n",
    "from scipy import stats\n",
    "from scipy.stats.mstats import gmean\n",
    "from scipy.spatial.distance import pdist, squareform\n",
    "from scipy.cluster.hierarchy import linkage, dendrogram\n",
    "import pickle\n",
    "import os\n",
    "import random\n",
    "%matplotlib notebook\n",
    "np.set_printoptions(precision=5, suppress=True) # suppress scientific float notation"
   ]
  },
  {
   "cell_type": "code",
   "execution_count": 2,
   "metadata": {
    "collapsed": true
   },
   "outputs": [],
   "source": [
    "import warnings\n",
    "warnings.filterwarnings('ignore')"
   ]
  },
  {
   "cell_type": "code",
   "execution_count": 3,
   "metadata": {
    "collapsed": true
   },
   "outputs": [],
   "source": [
    "# Setting default format for Seaborn/Matplotlib plots\n",
    "sns.set(context='paper', style=\"whitegrid\", palette='dark', font='sans-serif:Arial', font_scale=1, color_codes=False, rc=None)\n",
    "sns.set_style(\"ticks\", {\"xtick.major.size\": 3, \"ytick.major.size\": 3})\n",
    "sns.set_context(\"paper\", rc={\"font.size\":12,\"axes.titlesize\":12,\"axes.labelsize\":12})   "
   ]
  },
  {
   "cell_type": "code",
   "execution_count": 4,
   "metadata": {
    "collapsed": true,
    "hidePrompt": false
   },
   "outputs": [],
   "source": [
    "Categories = ['0. No effect','1. MT enhanced up-regulation','2. MT enhanced down-regulation','3. MT reduced up-regulation','4. MT reduced down-regulation','5. Level up','6. Level down']\n",
    "Sample_ids = ['WT_LL_1','WT_LL_2','WT_LL_3','WT_HL_1','WT_HL_2','WT_HL_3','LHCX_LL_1','LHCX_LL_2','LHCX_LL_3','LHCX_HL_1','LHCX_HL_2','LHCX_HL_3']\n",
    "Factor = ['WT_LL','WT_LL','WT_LL','WT_HL','WT_HL','WT_HL','LHCX_LL','LHCX_LL','LHCX_LL','LHCX_HL','LHCX_HL','LHCX_HL']\n",
    "Factor_list = ['WT_LL','WT_HL','LHCX_LL','LHCX_HL']"
   ]
  },
  {
   "cell_type": "code",
   "execution_count": 5,
   "metadata": {
    "collapsed": true
   },
   "outputs": [],
   "source": [
    "# Read in data\n",
    "df_counts = pd.read_table('./Data/LHCX_result_042817.txt', sep=\"\\t\", skiprows=1)\n",
    "df_counts.columns = ['Gene_id','Chr','Start','End','Strand', 'Length']+Sample_ids "
   ]
  },
  {
   "cell_type": "code",
   "execution_count": 6,
   "metadata": {
    "scrolled": true
   },
   "outputs": [
    {
     "name": "stderr",
     "output_type": "stream",
     "text": [
      "100%|██████████| 12/12 [00:00<00:00, 12.28it/s]\n"
     ]
    }
   ],
   "source": [
    "## First calculate TPM\n",
    "# Step 1, remove all untranscribed genes (Average <10 counts in all samples)\n",
    "from tqdm import tqdm\n",
    "TPM = df_counts[['Gene_id']]\n",
    "for col in tqdm(Sample_ids):\n",
    "    Ct = df_counts[col]/df_counts.Length\n",
    "    TPM[col] = Ct*1e6/np.sum(Ct)\n",
    "TPM = TPM.set_index('Gene_id')\n",
    "TPM = TPM[TPM[Sample_ids].mean(axis = 1)>10]\n",
    "TPM = TPM[:-2] # Remove spikes\n",
    "# Now use the RNA spike TPM counts to calculate scale factors"
   ]
  },
  {
   "cell_type": "code",
   "execution_count": 8,
   "metadata": {
    "scrolled": true
   },
   "outputs": [
    {
     "name": "stderr",
     "output_type": "stream",
     "text": [
      "100%|██████████| 10054/10054 [00:25<00:00, 398.81it/s]\n"
     ]
    }
   ],
   "source": [
    "# Convert TPM data to 4 features: 0. Grand mean 1. log2FC of wildtype and mutant mean; \n",
    "# 2. log2FC WT HL/LL 3. log2FC mutant HL/LL\n",
    "# Arbitraily set 1.5 fold change as the threshold\n",
    "from scipy.stats.mstats import gmean\n",
    "Feature_array = []\n",
    "for ID in tqdm(TPM.index):\n",
    "    data = pd.DataFrame({'Value':TPM.loc[ID].values},index=Factor)\n",
    "    x = []\n",
    "    for i in Factor_list:\n",
    "        x.append(gmean(data.loc[i])[0])\n",
    "    f_0 = np.mean(x)\n",
    "    f_1 = np.log2(np.mean(x[2:])/np.mean(x[:2]))\n",
    "    f_2 = np.log2(x[1]/x[0])\n",
    "    f_3 = np.log2(x[3]/x[2])\n",
    "    Feature_array.append([f_0,f_1,f_2,f_3])\n",
    "Feature_array = np.array(Feature_array).astype(np.float32)"
   ]
  },
  {
   "cell_type": "code",
   "execution_count": 9,
   "metadata": {},
   "outputs": [
    {
     "name": "stdout",
     "output_type": "stream",
     "text": [
      "390\n"
     ]
    }
   ],
   "source": [
    "# Group 1, No significant change in WT and MT\n",
    "idx_1 = []\n",
    "for i in range(len(Feature_array)):\n",
    "    if -0.1<Feature_array[i][2]-Feature_array[i][3]<0.1 and -0.1<Feature_array[i][1]<0.1:\n",
    "        idx_1.append(i)\n",
    "print(len(idx_1))"
   ]
  },
  {
   "cell_type": "code",
   "execution_count": 10,
   "metadata": {
    "scrolled": true
   },
   "outputs": [
    {
     "data": {
      "text/plain": [
       "405"
      ]
     },
     "execution_count": 10,
     "metadata": {},
     "output_type": "execute_result"
    }
   ],
   "source": [
    "# Group 2, the level of up regulation in MT is significantly enhanced\n",
    "idx_2 = []\n",
    "for i in range(len(Feature_array)):\n",
    "    if Feature_array[i][3]-abs(Feature_array[i][2])>0.8 and Feature_array[i][1]>0:\n",
    "        idx_2.append(i)\n",
    "len(idx_2)"
   ]
  },
  {
   "cell_type": "code",
   "execution_count": 11,
   "metadata": {},
   "outputs": [
    {
     "name": "stdout",
     "output_type": "stream",
     "text": [
      "64\n"
     ]
    }
   ],
   "source": [
    "# Group 3, the level of down regulation in MT is significantly enhanced\n",
    "idx_3 = []\n",
    "for i in range(len(Feature_array)):\n",
    "    if Feature_array[i][3]+abs(Feature_array[i][2])<-0.8 and Feature_array[i][1]<0:\n",
    "        idx_3.append(i)\n",
    "print(len(idx_3))"
   ]
  },
  {
   "cell_type": "code",
   "execution_count": 12,
   "metadata": {},
   "outputs": [
    {
     "name": "stdout",
     "output_type": "stream",
     "text": [
      "62\n"
     ]
    }
   ],
   "source": [
    "# Group 4, up-regulation in WT not seen in MT\n",
    "idx_4 = []\n",
    "for i in range(len(Feature_array)):\n",
    "    if -0.1 < Feature_array[i][3] < 0.1 and Feature_array[i][2] > 0.8:\n",
    "        idx_4.append(i)\n",
    "print(len(idx_4))"
   ]
  },
  {
   "cell_type": "code",
   "execution_count": 13,
   "metadata": {},
   "outputs": [
    {
     "name": "stdout",
     "output_type": "stream",
     "text": [
      "89\n"
     ]
    }
   ],
   "source": [
    "# Group 5, down-regulation in WT not seen in MT\n",
    "idx_5 = []\n",
    "for i in range(len(Feature_array)):\n",
    "    if -0.1 < Feature_array[i][3] < 0.1 and Feature_array[i][2] <-0.8 and Feature_array[i][1]:\n",
    "        idx_5.append(i)\n",
    "print(len(idx_5))"
   ]
  },
  {
   "cell_type": "code",
   "execution_count": 14,
   "metadata": {},
   "outputs": [
    {
     "name": "stdout",
     "output_type": "stream",
     "text": [
      "86\n"
     ]
    }
   ],
   "source": [
    "# Group 6, overall up regulated\n",
    "idx_6 = []\n",
    "for i in range(len(Feature_array)):\n",
    "    if -0.5<Feature_array[i][2]-Feature_array[i][3]<0.5 and Feature_array[i][1]>1:\n",
    "        idx_6.append(i)\n",
    "print(len(idx_6))"
   ]
  },
  {
   "cell_type": "code",
   "execution_count": 15,
   "metadata": {},
   "outputs": [
    {
     "name": "stdout",
     "output_type": "stream",
     "text": [
      "52\n"
     ]
    }
   ],
   "source": [
    "# Group 7, overall down regulated\n",
    "idx_7 = []\n",
    "for i in range(len(Feature_array)):\n",
    "    if -0.5<Feature_array[i][2]-Feature_array[i][3]<0.5 and Feature_array[i][1]<-1:\n",
    "        idx_7.append(i)\n",
    "print(len(idx_7))"
   ]
  },
  {
   "cell_type": "code",
   "execution_count": 16,
   "metadata": {
    "collapsed": true
   },
   "outputs": [],
   "source": [
    "############################ Init data for training ################################\n",
    "choice_index = idx_1+idx_2+idx_3+idx_4+idx_5+idx_6+idx_7\n",
    "choice = [0]*len(idx_1)+[1]*len(idx_2)+[2]*len(idx_3)+[3]*len(idx_4)+[4]*len(idx_5)+[5]*len(idx_6)+[6]*len(idx_7)\n",
    "training_data_choice = pd.DataFrame({'Choice':choice},index= TPM.index[choice_index])"
   ]
  },
  {
   "cell_type": "code",
   "execution_count": 228,
   "metadata": {
    "collapsed": true
   },
   "outputs": [],
   "source": [
    "# Generate One_hot values for training data\n",
    "training_one_hot = tf.one_hot(indices = choice,depth=7)\n",
    "with tf.Session() as sess:\n",
    "    one_hot_selection = sess.run(training_one_hot)"
   ]
  },
  {
   "cell_type": "code",
   "execution_count": 229,
   "metadata": {},
   "outputs": [
    {
     "name": "stderr",
     "output_type": "stream",
     "text": [
      "100%|██████████| 1148/1148 [00:02<00:00, 411.37it/s]\n"
     ]
    }
   ],
   "source": [
    "Gmean_train_input = []\n",
    "for ID in tqdm(training_data_choice.index):\n",
    "    data = pd.DataFrame({'Value':TPM.loc[ID].values},index=Factor)\n",
    "    x = []\n",
    "    for i in Factor_list:\n",
    "        x.append(gmean(data.loc[i])[0])\n",
    "    Gmean_train_input.append(x)\n",
    "Gmean_train_input = np.array(Gmean_train_input).astype(np.float32)"
   ]
  },
  {
   "cell_type": "code",
   "execution_count": 230,
   "metadata": {
    "collapsed": true
   },
   "outputs": [],
   "source": [
    "# Check point for all necessary data from above\n",
    "if os.path.isdir('./Data/Tensorflow/') == False:\n",
    "        os.mkdir('./Data/Tensorflow/')\n",
    "with open('./Data/Tensorflow/training_data_choice.pkl','wb') as f:\n",
    "        pickle.dump(training_data_choice,f)\n",
    "with open('./Data/Tensorflow/one_hot_selection.pkl','wb') as f:\n",
    "        pickle.dump(one_hot_selection,f) \n",
    "with open('./Data/Tensorflow/Gmean_train_input.pkl','wb') as f:\n",
    "        pickle.dump(Gmean_train_input,f)\n",
    "with open('./Data/Tensorflow/choice.pkl','wb') as f:\n",
    "        pickle.dump(choice,f)\n",
    "with open('./Data/Tensorflow/choice_index.pkl','wb') as f:\n",
    "        pickle.dump(choice_index,f)"
   ]
  },
  {
   "cell_type": "code",
   "execution_count": 6,
   "metadata": {
    "collapsed": true
   },
   "outputs": [],
   "source": [
    "#Load in processed data if already done\n",
    "training_data_choice = pd.read_pickle('./Data/Tensorflow/training_data_choice.pkl')\n",
    "one_hot_selection = pd.read_pickle('./Data/Tensorflow/one_hot_selection.pkl')\n",
    "Gmean_train_input = pd.read_pickle('./Data/Tensorflow/Gmean_train_input.pkl')\n",
    "choice = pd.read_pickle('./Data/Tensorflow/choice.pkl')\n",
    "choice_index = pd.read_pickle('./Data/Tensorflow/choice_index.pkl')"
   ]
  },
  {
   "cell_type": "code",
   "execution_count": 17,
   "metadata": {
    "collapsed": true
   },
   "outputs": [],
   "source": [
    "# Before training, first double check the genes of selection\n",
    "# Get the positions where color should change\n",
    "Length = [len(idx_1),len(idx_2),len(idx_3),len(idx_4),len(idx_5),len(idx_6),len(idx_7)] # Ori length of each segment of gene #s\n",
    "xx = np.zeros(len(Length))\n",
    "xx[0] = len(idx_1)\n",
    "for i in range(1,len(Length)):\n",
    "    xx[i] = xx[i-1] + Length[i]\n",
    "Length = [0.0]+list(xx)"
   ]
  },
  {
   "cell_type": "code",
   "execution_count": 18,
   "metadata": {},
   "outputs": [
    {
     "data": {
      "image/png": "[encoded data removed]",
      "text/plain": [
       "<matplotlib.figure.Figure at 0x118e5dbe0>"
      ]
     },
     "metadata": {},
     "output_type": "display_data"
    }
   ],
   "source": [
    "# Here are 1148 genes that we picked \n",
    "%matplotlib inline\n",
    "color_code = ['red', 'orange', 'yellow', 'green', 'blue', 'indigo','violet']\n",
    "colors = [color_code[i] for i in choice]\n",
    "f,ax = plt.subplots(1,1,figsize = (16,2))\n",
    "for i in range(1,len(Length)):\n",
    "    ax.fill_between([Length[i-1],Length[i]], 0, 0.5,color = color_code[i-1],zorder=0)\n",
    "ax.yaxis.set_visible(False)"
   ]
  },
  {
   "cell_type": "code",
   "execution_count": 19,
   "metadata": {
    "collapsed": true
   },
   "outputs": [],
   "source": [
    "rnd_selection = random.sample(range(len(training_data_choice)),int(len(training_data_choice)*0.5))\n",
    "x = np.zeros(len(training_data_choice))\n",
    "for i in range(len(training_data_choice)):\n",
    "    if i in rnd_selection:\n",
    "        x[i] = 1"
   ]
  },
  {
   "cell_type": "code",
   "execution_count": 20,
   "metadata": {},
   "outputs": [
    {
     "data": {
      "image/png": "[encoded data removed]",
      "text/plain": [
       "<matplotlib.figure.Figure at 0x1185c9080>"
      ]
     },
     "metadata": {},
     "output_type": "display_data"
    }
   ],
   "source": [
    "# Select from the featured genes 50% data for training, check if the coverage per category is good\n",
    "%matplotlib inline\n",
    "color_code = ['red', 'orange', 'yellow', 'green', 'blue', 'indigo','violet']\n",
    "colors = [color_code[i] for i in choice]\n",
    "f,ax = plt.subplots(1,1,figsize = (16,2))\n",
    "for i in range(len(training_data_choice)):\n",
    "    ax.bar(range(len(training_data_choice))[i],x[i],color = colors[i])\n",
    "for i in range(1,len(Length)):\n",
    "    ax.fill_between([Length[i-1],Length[i]], 0, 0.5,color = color_code[i-1],zorder=0)\n",
    "ax.yaxis.set_visible(False)"
   ]
  },
  {
   "cell_type": "code",
   "execution_count": 9,
   "metadata": {
    "collapsed": true
   },
   "outputs": [],
   "source": [
    "############################ Init data completed ################################\n",
    "############################ Define Neural network ############################"
   ]
  },
  {
   "cell_type": "code",
   "execution_count": 7,
   "metadata": {
    "collapsed": true
   },
   "outputs": [],
   "source": [
    "def add_layer(inputs, in_size, out_size, layer_name, activation_function = None, dropfunc = None, name = 'Hidden'):\n",
    "    # add one more layer and return the output of this layer\n",
    "    with tf.name_scope(name):\n",
    "        layer_var = {'weights':tf.Variable(tf.random_normal([in_size, out_size]),name='W'),\n",
    "                            'biases':tf.Variable(tf.random_normal([out_size]),name='bias')}\n",
    "        layer = tf.add(tf.matmul(inputs,layer_var['weights']), layer_var['biases'],name='Wx_plus_b')\n",
    "            \n",
    "            # dropout module if needed\n",
    "        if dropfunc is not None:\n",
    "            layer = tf.nn.dropout(layer, keep_prob)\n",
    "\n",
    "        if activation_function is not None:\n",
    "            layer = activation_function(layer)\n",
    "\n",
    "        return layer"
   ]
  },
  {
   "cell_type": "code",
   "execution_count": 8,
   "metadata": {
    "collapsed": true
   },
   "outputs": [],
   "source": [
    "#Begin constructing Tensorflow neural network\n",
    "def neural_network_model(xs):\n",
    "    l1 = add_layer(xs, 4, 300, 'l1', activation_function=tf.nn.relu, dropfunc='Y',name = 'Hidden_layer_relu')\n",
    "    prediction = add_layer(l1, 300, 7, 'prediction', activation_function=tf.nn.log_softmax, dropfunc=None,name = 'Output')\n",
    "    return prediction"
   ]
  },
  {
   "cell_type": "code",
   "execution_count": 9,
   "metadata": {
    "collapsed": true
   },
   "outputs": [],
   "source": [
    "############################ Training Neural network ############################\n",
    "\n",
    "# Define varibles\n",
    "keep_prob = tf.placeholder(tf.float32,name = 'Keep_rate')\n",
    "xs = tf.placeholder(tf.float32, [None, 4],name='x_input')\n",
    "ys = tf.placeholder(tf.float32,name = 'y_input')\n",
    "    \n",
    "# Building training structure\n",
    "prediction = neural_network_model(xs) # Function defined above\n",
    "with tf.name_scope('Cost_function'):\n",
    "    cost = tf.reduce_mean(tf.nn.softmax_cross_entropy_with_logits(logits=prediction, labels=ys, name='Cost_function'))\n",
    "with tf.name_scope(\"Train\"):    \n",
    "    optimizer = tf.train.AdamOptimizer(name='Train').minimize(cost)"
   ]
  },
  {
   "cell_type": "code",
   "execution_count": 74,
   "metadata": {
    "collapsed": true
   },
   "outputs": [],
   "source": [
    "def Traning(x_input,y_input,keep_rate,iteration,save_path,log_path):    \n",
    "    import os\n",
    "    if os.path.isdir(log_path) == False:\n",
    "            os.mkdir(log_path)\n",
    "    if os.path.isdir(save_path) == False:\n",
    "            os.mkdir(save_path)\n",
    "               \n",
    "    # Randomly select 50% of the traning dataset for training\n",
    "    import random\n",
    "    rnd_selection = random.sample(range(len(x_input)),int(len(x_input)*0.5))\n",
    "    \n",
    "    # Traning init    \n",
    "    with tf.Session() as sess:\n",
    "        # Init\n",
    "        sess.run(tf.global_variables_initializer())\n",
    "        loss = 0\n",
    "        for step in range(iteration):\n",
    "            _,c = sess.run([optimizer,cost],feed_dict = {xs:x_input[rnd_selection],ys:y_input[rnd_selection],keep_prob:keep_rate})\n",
    "            loss += c\n",
    "        print('loss =', c)\n",
    "\n",
    "        # Saver     \n",
    "        saver = tf.train.Saver()\n",
    "        saver.save(sess, save_path + 'PT_model.ckpt')\n",
    "        #summary_writer = tf.summary.FileWriter(log_path,graph=sess.graph)\n",
    "        # Test the model\n",
    "        prediction_results = tf.equal(tf.argmax(prediction, 1), tf.argmax(ys, 1))\n",
    "        # Calculate accuracy\n",
    "        accuracy = tf.reduce_mean(tf.cast(prediction_results, \"float\")).eval({xs:x_input, ys:y_input,keep_prob:1})\n",
    "        print(\"Accuracy:\", accuracy)\n",
    "        return accuracy"
   ]
  },
  {
   "cell_type": "code",
   "execution_count": 11,
   "metadata": {
    "collapsed": true
   },
   "outputs": [],
   "source": [
    "# Make predictions using trained and curated data\n",
    "def Model_prediction(x_input,save_path):\n",
    "    with tf.Session() as sess:\n",
    "        ckpt = tf.train.get_checkpoint_state(save_path)\n",
    "        saver = tf.train.Saver()\n",
    "        saver.restore(sess,ckpt.model_checkpoint_path)\n",
    "        prob = sess.run(prediction,feed_dict={xs:x_input,keep_prob:1})\n",
    "        result = sess.run(tf.argmax(prob,1))\n",
    "        return result"
   ]
  },
  {
   "cell_type": "code",
   "execution_count": 21,
   "metadata": {},
   "outputs": [
    {
     "name": "stderr",
     "output_type": "stream",
     "text": [
      "100%|██████████| 10054/10054 [00:25<00:00, 401.94it/s]\n"
     ]
    }
   ],
   "source": [
    "# Test the model by running it once\n",
    "\n",
    "# Generate Data_array for all genes - Classify all genes \n",
    "Gmean_data_input = []\n",
    "for ID in tqdm(TPM.index):\n",
    "    data = pd.DataFrame({'Value':TPM.loc[ID].values},index=Factor)\n",
    "    x = []\n",
    "    for i in Factor_list:\n",
    "        x.append(gmean(data.loc[i])[0])\n",
    "    Gmean_data_input.append(x)\n",
    "Gmean_data_input = np.array(Gmean_data_input).astype(np.float32)\n",
    "with open('./Data/Tensorflow/Gmean_data_input.pkl','wb') as f:\n",
    "        pickle.dump(Gmean_data_input,f)"
   ]
  },
  {
   "cell_type": "code",
   "execution_count": 22,
   "metadata": {
    "collapsed": true
   },
   "outputs": [],
   "source": [
    "# To save time if you have run the above code already \n",
    "Gmean_data_input = pd.read_pickle('./Tensorflow/data/Gmean_data_input.pkl')"
   ]
  },
  {
   "cell_type": "code",
   "execution_count": 54,
   "metadata": {},
   "outputs": [
    {
     "name": "stdout",
     "output_type": "stream",
     "text": [
      "INFO:tensorflow:Restoring parameters from ./Tensorflow/model_log_softmax/PT_model.ckpt\n"
     ]
    }
   ],
   "source": [
    "# Predic the categories for the other data set - Using trained model\n",
    "result_real = Model_prediction(x_input = Gmean_data_input,save_path = './Tensorflow/model_log_softmax/')\n",
    "P_of_selection = np.zeros(len(TPM))\n",
    "Class_of_selection = []\n",
    "for i in range(len(TPM)):\n",
    "    P_of_selection[i] = np.exp(prob_selection[i][result_real[i]])\n",
    "    Class_of_selection.append(Categories[result_real[i]])"
   ]
  },
  {
   "cell_type": "code",
   "execution_count": null,
   "metadata": {
    "collapsed": true
   },
   "outputs": [],
   "source": [
    "TPM_class = pd.DataFrame({'Choice':result_real,'Category':Class_of_selection},index = TPM.index)\n",
    "with open('./Data/Tensorflow/TPM_class.pkl','wb') as f:\n",
    "        pickle.dump(TPM_class,f)"
   ]
  },
  {
   "cell_type": "code",
   "execution_count": 58,
   "metadata": {
    "collapsed": true
   },
   "outputs": [],
   "source": [
    "# To save time if you have run the above code already \n",
    "TPM_class = pd.read_pickle('./Data/Tensorflow/TPM_class.pkl')"
   ]
  },
  {
   "cell_type": "code",
   "execution_count": 132,
   "metadata": {},
   "outputs": [
    {
     "data": {
      "image/png": "[encoded data removed]",
      "text/plain": [
       "<matplotlib.figure.Figure at 0x11d95f6a0>"
      ]
     },
     "metadata": {},
     "output_type": "display_data"
    }
   ],
   "source": [
    "# Check the level of prediction probability \n",
    "%matplotlib inline\n",
    "f,ax = plt.subplots(1,1,figsize = (16,2))\n",
    "ax.scatter(range(len(TPM)),P_of_selection,marker = '.',c=color_code,s=50)\n",
    "ax.set_ylim([0,1]);"
   ]
  },
  {
   "cell_type": "code",
   "execution_count": 76,
   "metadata": {},
   "outputs": [
    {
     "name": "stdout",
     "output_type": "stream",
     "text": [
      "Iteration: 0\n",
      "loss = 0.0\n",
      "Accuracy: 0.994774\n",
      "INFO:tensorflow:Restoring parameters from ./Tensorflow/model_log_softmax/PT_model.ckpt\n",
      "Iteration: 1\n",
      "loss = 0.0209797\n",
      "Accuracy: 0.990418\n",
      "INFO:tensorflow:Restoring parameters from ./Tensorflow/model_log_softmax/PT_model.ckpt\n",
      "Iteration: 2\n",
      "loss = 0.0\n",
      "Accuracy: 0.991289\n",
      "INFO:tensorflow:Restoring parameters from ./Tensorflow/model_log_softmax/PT_model.ckpt\n",
      "Iteration: 3\n",
      "loss = 0.0\n",
      "Accuracy: 0.998258\n",
      "INFO:tensorflow:Restoring parameters from ./Tensorflow/model_log_softmax/PT_model.ckpt\n",
      "Iteration: 4\n",
      "loss = 0.194245\n",
      "Accuracy: 0.999129\n",
      "INFO:tensorflow:Restoring parameters from ./Tensorflow/model_log_softmax/PT_model.ckpt\n",
      "Iteration: 5\n",
      "loss = 0.0350231\n",
      "Accuracy: 0.995645\n",
      "INFO:tensorflow:Restoring parameters from ./Tensorflow/model_log_softmax/PT_model.ckpt\n",
      "Iteration: 6\n",
      "loss = 0.0082511\n",
      "Accuracy: 0.997387\n",
      "INFO:tensorflow:Restoring parameters from ./Tensorflow/model_log_softmax/PT_model.ckpt\n",
      "Iteration: 7\n",
      "loss = 0.00887517\n",
      "Accuracy: 0.995645\n",
      "INFO:tensorflow:Restoring parameters from ./Tensorflow/model_log_softmax/PT_model.ckpt\n",
      "Iteration: 8\n",
      "loss = 2.07682e-10\n",
      "Accuracy: 0.994774\n",
      "INFO:tensorflow:Restoring parameters from ./Tensorflow/model_log_softmax/PT_model.ckpt\n",
      "Iteration: 9\n",
      "loss = 0.0\n",
      "Accuracy: 0.993902\n",
      "INFO:tensorflow:Restoring parameters from ./Tensorflow/model_log_softmax/PT_model.ckpt\n",
      "Iteration: 10\n",
      "loss = 0.0\n",
      "Accuracy: 0.994774\n",
      "INFO:tensorflow:Restoring parameters from ./Tensorflow/model_log_softmax/PT_model.ckpt\n",
      "Iteration: 11\n",
      "loss = 0.0\n",
      "Accuracy: 0.995645\n",
      "INFO:tensorflow:Restoring parameters from ./Tensorflow/model_log_softmax/PT_model.ckpt\n",
      "Iteration: 12\n",
      "loss = 0.0\n",
      "Accuracy: 0.995645\n",
      "INFO:tensorflow:Restoring parameters from ./Tensorflow/model_log_softmax/PT_model.ckpt\n",
      "Iteration: 13\n",
      "loss = 1.392e-05\n",
      "Accuracy: 0.995645\n",
      "INFO:tensorflow:Restoring parameters from ./Tensorflow/model_log_softmax/PT_model.ckpt\n",
      "Iteration: 14\n",
      "loss = 0.098196\n",
      "Accuracy: 0.997387\n",
      "INFO:tensorflow:Restoring parameters from ./Tensorflow/model_log_softmax/PT_model.ckpt\n",
      "Iteration: 15\n",
      "loss = 0.0\n",
      "Accuracy: 0.998258\n",
      "INFO:tensorflow:Restoring parameters from ./Tensorflow/model_log_softmax/PT_model.ckpt\n",
      "Iteration: 16\n",
      "loss = 0.0\n",
      "Accuracy: 0.997387\n",
      "INFO:tensorflow:Restoring parameters from ./Tensorflow/model_log_softmax/PT_model.ckpt\n",
      "Iteration: 17\n",
      "loss = 0.0\n",
      "Accuracy: 0.993031\n",
      "INFO:tensorflow:Restoring parameters from ./Tensorflow/model_log_softmax/PT_model.ckpt\n",
      "Iteration: 18\n",
      "loss = 0.0\n",
      "Accuracy: 0.996516\n",
      "INFO:tensorflow:Restoring parameters from ./Tensorflow/model_log_softmax/PT_model.ckpt\n",
      "Iteration: 19\n",
      "loss = 6.23045e-10\n",
      "Accuracy: 0.997387\n",
      "INFO:tensorflow:Restoring parameters from ./Tensorflow/model_log_softmax/PT_model.ckpt\n",
      "Iteration: 20\n",
      "loss = 0.0\n",
      "Accuracy: 0.995645\n",
      "INFO:tensorflow:Restoring parameters from ./Tensorflow/model_log_softmax/PT_model.ckpt\n",
      "Iteration: 21\n",
      "loss = 0.183538\n",
      "Accuracy: 0.993902\n",
      "INFO:tensorflow:Restoring parameters from ./Tensorflow/model_log_softmax/PT_model.ckpt\n",
      "Iteration: 22\n",
      "loss = 0.223725\n",
      "Accuracy: 0.995645\n",
      "INFO:tensorflow:Restoring parameters from ./Tensorflow/model_log_softmax/PT_model.ckpt\n",
      "Iteration: 23\n",
      "loss = 0.143487\n",
      "Accuracy: 0.993902\n",
      "INFO:tensorflow:Restoring parameters from ./Tensorflow/model_log_softmax/PT_model.ckpt\n",
      "Iteration: 24\n",
      "loss = 0.00283587\n",
      "Accuracy: 0.997387\n",
      "INFO:tensorflow:Restoring parameters from ./Tensorflow/model_log_softmax/PT_model.ckpt\n",
      "Iteration: 25\n",
      "loss = 0.0533923\n",
      "Accuracy: 1.0\n",
      "INFO:tensorflow:Restoring parameters from ./Tensorflow/model_log_softmax/PT_model.ckpt\n",
      "Iteration: 26\n",
      "loss = 0.379749\n",
      "Accuracy: 0.997387\n",
      "INFO:tensorflow:Restoring parameters from ./Tensorflow/model_log_softmax/PT_model.ckpt\n",
      "Iteration: 27\n",
      "loss = 0.257069\n",
      "Accuracy: 0.995645\n",
      "INFO:tensorflow:Restoring parameters from ./Tensorflow/model_log_softmax/PT_model.ckpt\n",
      "Iteration: 28\n",
      "loss = 0.269428\n",
      "Accuracy: 0.996516\n",
      "INFO:tensorflow:Restoring parameters from ./Tensorflow/model_log_softmax/PT_model.ckpt\n",
      "Iteration: 29\n",
      "loss = 5.81508e-09\n",
      "Accuracy: 0.996516\n",
      "INFO:tensorflow:Restoring parameters from ./Tensorflow/model_log_softmax/PT_model.ckpt\n",
      "Iteration: 30\n",
      "loss = 0.0\n",
      "Accuracy: 0.993031\n",
      "INFO:tensorflow:Restoring parameters from ./Tensorflow/model_log_softmax/PT_model.ckpt\n",
      "Iteration: 31\n",
      "loss = 0.0\n",
      "Accuracy: 0.994774\n",
      "INFO:tensorflow:Restoring parameters from ./Tensorflow/model_log_softmax/PT_model.ckpt\n",
      "Iteration: 32\n",
      "loss = 0.0030226\n",
      "Accuracy: 0.993031\n",
      "INFO:tensorflow:Restoring parameters from ./Tensorflow/model_log_softmax/PT_model.ckpt\n",
      "Iteration: 33\n",
      "loss = 0.0\n",
      "Accuracy: 0.997387\n",
      "INFO:tensorflow:Restoring parameters from ./Tensorflow/model_log_softmax/PT_model.ckpt\n",
      "Iteration: 34\n",
      "loss = 0.0117988\n",
      "Accuracy: 0.993902\n",
      "INFO:tensorflow:Restoring parameters from ./Tensorflow/model_log_softmax/PT_model.ckpt\n",
      "Iteration: 35\n",
      "loss = 0.0\n",
      "Accuracy: 0.996516\n",
      "INFO:tensorflow:Restoring parameters from ./Tensorflow/model_log_softmax/PT_model.ckpt\n",
      "Iteration: 36\n",
      "loss = 0.0\n",
      "Accuracy: 0.998258\n",
      "INFO:tensorflow:Restoring parameters from ./Tensorflow/model_log_softmax/PT_model.ckpt\n",
      "Iteration: 37\n",
      "loss = 0.143489\n",
      "Accuracy: 0.995645\n",
      "INFO:tensorflow:Restoring parameters from ./Tensorflow/model_log_softmax/PT_model.ckpt\n",
      "Iteration: 38\n",
      "loss = 0.0\n",
      "Accuracy: 0.997387\n",
      "INFO:tensorflow:Restoring parameters from ./Tensorflow/model_log_softmax/PT_model.ckpt\n",
      "Iteration: 39\n",
      "loss = 0.0972805\n",
      "Accuracy: 0.998258\n",
      "INFO:tensorflow:Restoring parameters from ./Tensorflow/model_log_softmax/PT_model.ckpt\n",
      "Iteration: 40\n",
      "loss = 0.0\n",
      "Accuracy: 0.996516\n",
      "INFO:tensorflow:Restoring parameters from ./Tensorflow/model_log_softmax/PT_model.ckpt\n",
      "Iteration: 41\n",
      "loss = 0.0\n",
      "Accuracy: 0.994774\n",
      "INFO:tensorflow:Restoring parameters from ./Tensorflow/model_log_softmax/PT_model.ckpt\n",
      "Iteration: 42\n",
      "loss = 0.21484\n",
      "Accuracy: 0.995645\n",
      "INFO:tensorflow:Restoring parameters from ./Tensorflow/model_log_softmax/PT_model.ckpt\n",
      "Iteration: 43\n",
      "loss = 0.0\n",
      "Accuracy: 0.994774\n",
      "INFO:tensorflow:Restoring parameters from ./Tensorflow/model_log_softmax/PT_model.ckpt\n",
      "Iteration: 44\n",
      "loss = 2.07682e-10\n",
      "Accuracy: 0.995645\n",
      "INFO:tensorflow:Restoring parameters from ./Tensorflow/model_log_softmax/PT_model.ckpt\n",
      "Iteration: 45\n",
      "loss = 0.0\n",
      "Accuracy: 0.993902\n",
      "INFO:tensorflow:Restoring parameters from ./Tensorflow/model_log_softmax/PT_model.ckpt\n",
      "Iteration: 46\n",
      "loss = 5.44664e-07\n",
      "Accuracy: 0.994774\n",
      "INFO:tensorflow:Restoring parameters from ./Tensorflow/model_log_softmax/PT_model.ckpt\n",
      "Iteration: 47\n",
      "loss = 0.0\n",
      "Accuracy: 0.994774\n",
      "INFO:tensorflow:Restoring parameters from ./Tensorflow/model_log_softmax/PT_model.ckpt\n",
      "Iteration: 48\n",
      "loss = 0.478695\n",
      "Accuracy: 0.998258\n",
      "INFO:tensorflow:Restoring parameters from ./Tensorflow/model_log_softmax/PT_model.ckpt\n",
      "Iteration: 49\n",
      "loss = 0.0\n",
      "Accuracy: 0.995645\n",
      "INFO:tensorflow:Restoring parameters from ./Tensorflow/model_log_softmax/PT_model.ckpt\n",
      "Iteration: 50\n",
      "loss = 0.000212543\n",
      "Accuracy: 0.996516\n",
      "INFO:tensorflow:Restoring parameters from ./Tensorflow/model_log_softmax/PT_model.ckpt\n",
      "Iteration: 51\n",
      "loss = 0.0\n",
      "Accuracy: 0.993902\n",
      "INFO:tensorflow:Restoring parameters from ./Tensorflow/model_log_softmax/PT_model.ckpt\n",
      "Iteration: 52\n",
      "loss = 0.24356\n",
      "Accuracy: 0.998258\n",
      "INFO:tensorflow:Restoring parameters from ./Tensorflow/model_log_softmax/PT_model.ckpt\n",
      "Iteration: 53\n",
      "loss = 0.00175411\n",
      "Accuracy: 0.994774\n",
      "INFO:tensorflow:Restoring parameters from ./Tensorflow/model_log_softmax/PT_model.ckpt\n",
      "Iteration: 54\n",
      "loss = 0.0\n",
      "Accuracy: 0.993902\n",
      "INFO:tensorflow:Restoring parameters from ./Tensorflow/model_log_softmax/PT_model.ckpt\n",
      "Iteration: 55\n",
      "loss = 0.374803\n",
      "Accuracy: 0.996516\n",
      "INFO:tensorflow:Restoring parameters from ./Tensorflow/model_log_softmax/PT_model.ckpt\n",
      "Iteration: 56\n",
      "loss = 0.0746094\n",
      "Accuracy: 0.996516\n",
      "INFO:tensorflow:Restoring parameters from ./Tensorflow/model_log_softmax/PT_model.ckpt\n",
      "Iteration: 57\n",
      "loss = 0.0\n",
      "Accuracy: 0.997387\n",
      "INFO:tensorflow:Restoring parameters from ./Tensorflow/model_log_softmax/PT_model.ckpt\n",
      "Iteration: 58\n",
      "loss = 6.23045e-10\n",
      "Accuracy: 0.993902\n",
      "INFO:tensorflow:Restoring parameters from ./Tensorflow/model_log_softmax/PT_model.ckpt\n",
      "Iteration: 59\n",
      "loss = 0.116013\n",
      "Accuracy: 0.994774\n",
      "INFO:tensorflow:Restoring parameters from ./Tensorflow/model_log_softmax/PT_model.ckpt\n",
      "Iteration: 60\n",
      "loss = 0.187276\n",
      "Accuracy: 0.995645\n",
      "INFO:tensorflow:Restoring parameters from ./Tensorflow/model_log_softmax/PT_model.ckpt\n",
      "Iteration: 61\n",
      "loss = 0.00714621\n",
      "Accuracy: 0.99216\n",
      "INFO:tensorflow:Restoring parameters from ./Tensorflow/model_log_softmax/PT_model.ckpt\n",
      "Iteration: 62\n",
      "loss = 0.0832891\n",
      "Accuracy: 0.999129\n",
      "INFO:tensorflow:Restoring parameters from ./Tensorflow/model_log_softmax/PT_model.ckpt\n",
      "Iteration: 63\n",
      "loss = 1.24609e-09\n",
      "Accuracy: 0.989547\n",
      "INFO:tensorflow:Restoring parameters from ./Tensorflow/model_log_softmax/PT_model.ckpt\n",
      "Iteration: 64\n",
      "loss = 0.0\n",
      "Accuracy: 0.997387\n",
      "INFO:tensorflow:Restoring parameters from ./Tensorflow/model_log_softmax/PT_model.ckpt\n",
      "Iteration: 65\n",
      "loss = 0.0\n",
      "Accuracy: 0.996516\n",
      "INFO:tensorflow:Restoring parameters from ./Tensorflow/model_log_softmax/PT_model.ckpt\n",
      "Iteration: 66\n",
      "loss = 0.0\n",
      "Accuracy: 0.994774\n",
      "INFO:tensorflow:Restoring parameters from ./Tensorflow/model_log_softmax/PT_model.ckpt\n",
      "Iteration: 67\n",
      "loss = 0.0\n",
      "Accuracy: 0.995645\n",
      "INFO:tensorflow:Restoring parameters from ./Tensorflow/model_log_softmax/PT_model.ckpt\n",
      "Iteration: 68\n",
      "loss = 0.000286626\n",
      "Accuracy: 0.998258\n",
      "INFO:tensorflow:Restoring parameters from ./Tensorflow/model_log_softmax/PT_model.ckpt\n",
      "Iteration: 69\n",
      "loss = 3.46794e-07\n",
      "Accuracy: 0.998258\n",
      "INFO:tensorflow:Restoring parameters from ./Tensorflow/model_log_softmax/PT_model.ckpt\n",
      "Iteration: 70\n",
      "loss = 0.0\n",
      "Accuracy: 0.997387\n",
      "INFO:tensorflow:Restoring parameters from ./Tensorflow/model_log_softmax/PT_model.ckpt\n",
      "Iteration: 71\n",
      "loss = 0.0148809\n",
      "Accuracy: 0.997387\n",
      "INFO:tensorflow:Restoring parameters from ./Tensorflow/model_log_softmax/PT_model.ckpt\n",
      "Iteration: 72\n",
      "loss = 0.0306384\n",
      "Accuracy: 0.990418\n",
      "INFO:tensorflow:Restoring parameters from ./Tensorflow/model_log_softmax/PT_model.ckpt\n",
      "Iteration: 73\n",
      "loss = 0.0236013\n",
      "Accuracy: 0.996516\n",
      "INFO:tensorflow:Restoring parameters from ./Tensorflow/model_log_softmax/PT_model.ckpt\n",
      "Iteration: 74\n",
      "loss = 1.2479e-05\n",
      "Accuracy: 0.994774\n",
      "INFO:tensorflow:Restoring parameters from ./Tensorflow/model_log_softmax/PT_model.ckpt\n",
      "Iteration: 75\n",
      "loss = 0.0\n",
      "Accuracy: 0.998258\n",
      "INFO:tensorflow:Restoring parameters from ./Tensorflow/model_log_softmax/PT_model.ckpt\n",
      "Iteration: 76\n",
      "loss = 0.0\n",
      "Accuracy: 0.997387\n",
      "INFO:tensorflow:Restoring parameters from ./Tensorflow/model_log_softmax/PT_model.ckpt\n",
      "Iteration: 77\n",
      "loss = 0.249617\n",
      "Accuracy: 0.995645\n",
      "INFO:tensorflow:Restoring parameters from ./Tensorflow/model_log_softmax/PT_model.ckpt\n",
      "Iteration: 78\n",
      "loss = 0.0\n",
      "Accuracy: 0.994774\n",
      "INFO:tensorflow:Restoring parameters from ./Tensorflow/model_log_softmax/PT_model.ckpt\n",
      "Iteration: 79\n",
      "loss = 0.0\n",
      "Accuracy: 0.997387\n",
      "INFO:tensorflow:Restoring parameters from ./Tensorflow/model_log_softmax/PT_model.ckpt\n",
      "Iteration: 80\n",
      "loss = 0.0\n",
      "Accuracy: 0.99216\n",
      "INFO:tensorflow:Restoring parameters from ./Tensorflow/model_log_softmax/PT_model.ckpt\n",
      "Iteration: 81\n",
      "loss = 0.100844\n",
      "Accuracy: 0.995645\n",
      "INFO:tensorflow:Restoring parameters from ./Tensorflow/model_log_softmax/PT_model.ckpt\n",
      "Iteration: 82\n",
      "loss = 0.614084\n",
      "Accuracy: 0.997387\n",
      "INFO:tensorflow:Restoring parameters from ./Tensorflow/model_log_softmax/PT_model.ckpt\n",
      "Iteration: 83\n",
      "loss = 0.0\n",
      "Accuracy: 0.995645\n",
      "INFO:tensorflow:Restoring parameters from ./Tensorflow/model_log_softmax/PT_model.ckpt\n",
      "Iteration: 84\n",
      "loss = 0.23681\n",
      "Accuracy: 0.996516\n",
      "INFO:tensorflow:Restoring parameters from ./Tensorflow/model_log_softmax/PT_model.ckpt\n",
      "Iteration: 85\n",
      "loss = 0.0\n",
      "Accuracy: 0.997387\n",
      "INFO:tensorflow:Restoring parameters from ./Tensorflow/model_log_softmax/PT_model.ckpt\n",
      "Iteration: 86\n",
      "loss = 0.0\n",
      "Accuracy: 0.994774\n",
      "INFO:tensorflow:Restoring parameters from ./Tensorflow/model_log_softmax/PT_model.ckpt\n",
      "Iteration: 87\n",
      "loss = 0.0\n",
      "Accuracy: 0.996516\n",
      "INFO:tensorflow:Restoring parameters from ./Tensorflow/model_log_softmax/PT_model.ckpt\n",
      "Iteration: 88\n",
      "loss = 0.0\n",
      "Accuracy: 0.995645\n",
      "INFO:tensorflow:Restoring parameters from ./Tensorflow/model_log_softmax/PT_model.ckpt\n",
      "Iteration: 89\n",
      "loss = 0.0671973\n",
      "Accuracy: 0.99216\n",
      "INFO:tensorflow:Restoring parameters from ./Tensorflow/model_log_softmax/PT_model.ckpt\n",
      "Iteration: 90\n",
      "loss = 0.0\n",
      "Accuracy: 0.994774\n",
      "INFO:tensorflow:Restoring parameters from ./Tensorflow/model_log_softmax/PT_model.ckpt\n",
      "Iteration: 91\n",
      "loss = 0.645527\n",
      "Accuracy: 0.996516\n",
      "INFO:tensorflow:Restoring parameters from ./Tensorflow/model_log_softmax/PT_model.ckpt\n",
      "Iteration: 92\n",
      "loss = 0.162044\n",
      "Accuracy: 0.998258\n",
      "INFO:tensorflow:Restoring parameters from ./Tensorflow/model_log_softmax/PT_model.ckpt\n",
      "Iteration: 93\n",
      "loss = 0.0\n",
      "Accuracy: 0.995645\n",
      "INFO:tensorflow:Restoring parameters from ./Tensorflow/model_log_softmax/PT_model.ckpt\n",
      "Iteration: 94\n",
      "loss = 0.0191852\n",
      "Accuracy: 0.993902\n",
      "INFO:tensorflow:Restoring parameters from ./Tensorflow/model_log_softmax/PT_model.ckpt\n",
      "Iteration: 95\n",
      "loss = 0.134859\n",
      "Accuracy: 0.994774\n",
      "INFO:tensorflow:Restoring parameters from ./Tensorflow/model_log_softmax/PT_model.ckpt\n",
      "Iteration: 96\n",
      "loss = 0.0\n",
      "Accuracy: 0.993902\n",
      "INFO:tensorflow:Restoring parameters from ./Tensorflow/model_log_softmax/PT_model.ckpt\n",
      "Iteration: 97\n",
      "loss = 0.0\n",
      "Accuracy: 0.990418\n",
      "INFO:tensorflow:Restoring parameters from ./Tensorflow/model_log_softmax/PT_model.ckpt\n",
      "Iteration: 98\n",
      "loss = 1.01764e-08\n",
      "Accuracy: 0.997387\n",
      "INFO:tensorflow:Restoring parameters from ./Tensorflow/model_log_softmax/PT_model.ckpt\n",
      "Iteration: 99\n",
      "loss = 0.0\n",
      "Accuracy: 0.994774\n",
      "INFO:tensorflow:Restoring parameters from ./Tensorflow/model_log_softmax/PT_model.ckpt\n"
     ]
    }
   ],
   "source": [
    "# If the test run has postive result, start running the model in 100 or more iterations to get simulated pattern distributions\n",
    "# In each iteration, randomly select 50% from training dataset and use that to classify the entire cDNA libraey dataset\n",
    "TPM_class_check = pd.DataFrame(index = TPM.index)\n",
    "accuracy_check = []\n",
    "for i in range(100):\n",
    "    print('Iteration:',i)\n",
    "    ac_check = Traning(x_input = Gmean_train_input,y_input = one_hot_selection,keep_rate = 0.8,iteration = 12000,save_path = './Data/Tensorflow/model_log_softmax/',log_path = './Data/Tensorflow/log/')\n",
    "    result_real = Model_prediction(x_input = Gmean_data_input,save_path = './Tensorflow/model_log_softmax/');\n",
    "    name = str('Class'+ str(i))\n",
    "    TPM_class_check[name] = result_real\n",
    "    accuracy_check.append(ac_check)"
   ]
  },
  {
   "cell_type": "code",
   "execution_count": 89,
   "metadata": {
    "collapsed": true
   },
   "outputs": [],
   "source": [
    "# Reorgnize data from model prediction and put them into dataframe for exporting\n",
    "colume_name = []\n",
    "\n",
    "\n",
    "\n",
    "for i in range(7):\n",
    "    colume_name.append('Selection_'+str(i))\n",
    "TPM_class_final = pd.DataFrame(index = TPM_class_check.index,columns=colume_name)\n",
    "\n",
    "for ix in TPM_class_check.index:\n",
    "    for i in range(7):\n",
    "        TPM_class_final.loc[ix][colume_name[i]] = TPM_class_check.loc[ix].values.tolist().count(i)"
   ]
  },
  {
   "cell_type": "code",
   "execution_count": 105,
   "metadata": {
    "collapsed": true
   },
   "outputs": [],
   "source": [
    "TPM_class_onehot = pd.DataFrame(index = TPM_class_check.index,columns=['Onehot','Prob'])"
   ]
  },
  {
   "cell_type": "code",
   "execution_count": 120,
   "metadata": {
    "collapsed": true
   },
   "outputs": [],
   "source": [
    "for ix in TPM_class_onehot.index:\n",
    "    TPM_class_onehot.loc[ix]['Onehot']=[i for i, j in enumerate(TPM_class_final.loc[ix].values.tolist()) if j == max(TPM_class_final.loc[ix].values)][0]\n",
    "    TPM_class_onehot.loc[ix]['Prob'] = max(TPM_class_final.loc[ix].values)/100"
   ]
  },
  {
   "cell_type": "code",
   "execution_count": 78,
   "metadata": {
    "collapsed": true
   },
   "outputs": [],
   "source": [
    "TPM_class_check.to_pickle('TPM_class_check.pkl')\n",
    "TPM_class_final.to_pickle('TPM_class_final.pkl')\n",
    "TPM_class_onehot.to_pickle('TPM_class_onehot.pkl')"
   ]
  },
  {
   "cell_type": "code",
   "execution_count": 28,
   "metadata": {},
   "outputs": [
    {
     "data": {
      "text/plain": [
       "<matplotlib.text.Text at 0x11a339eb8>"
      ]
     },
     "execution_count": 28,
     "metadata": {},
     "output_type": "execute_result"
    },
    {
     "data": {
      "image/png": "[encoded data removed]",
      "text/plain": [
       "<matplotlib.figure.Figure at 0x119590a58>"
      ]
     },
     "metadata": {},
     "output_type": "display_data"
    }
   ],
   "source": [
    "######################### iteration log ###############################\n",
    "%matplotlib inline\n",
    "run_log = pd.read_csv('./Data/Tensorflow/100run_log.csv',header=None)\n",
    "Accuracy_log = [run_log[0][2][10:]]\n",
    "Accuracy_log +=[run_log[0][i][10:] for i in run_log.index[(run_log.index-2)%4==0]]\n",
    "f,ax = plt.subplots(1,1,figsize=[6,2])\n",
    "ax.plot(range(101),Accuracy_log,'.')\n",
    "ax.plot([0,100],[0.99,0.99],'--',color = 'grey')\n",
    "# ax.text(90,0.985,'0.99')\n",
    "ax.set_ylim([0.95,1])\n",
    "ax.set_xlim([0,101])\n",
    "ax.set_xlabel('itertion')\n",
    "ax.set_ylabel('Accuracy')"
   ]
  },
  {
   "cell_type": "code",
   "execution_count": 27,
   "metadata": {
    "collapsed": true
   },
   "outputs": [],
   "source": [
    "######################### Load classification result ##########################\n",
    "TPM_class_final = pd.read_pickle('TPM_class_final.pkl')\n",
    "TPM_class_onehot = pd.read_pickle('TPM_class_onehot.pkl')"
   ]
  },
  {
   "cell_type": "code",
   "execution_count": 30,
   "metadata": {},
   "outputs": [
    {
     "data": {
      "text/html": [
       "<div>\n",
       "<style>\n",
       "    .dataframe thead tr:only-child th {\n",
       "        text-align: right;\n",
       "    }\n",
       "\n",
       "    .dataframe thead th {\n",
       "        text-align: left;\n",
       "    }\n",
       "\n",
       "    .dataframe tbody tr th {\n",
       "        vertical-align: top;\n",
       "    }\n",
       "</style>\n",
       "<table border=\"1\" class=\"dataframe\">\n",
       "  <thead>\n",
       "    <tr style=\"text-align: right;\">\n",
       "      <th></th>\n",
       "      <th>Onehot</th>\n",
       "      <th>Prob</th>\n",
       "    </tr>\n",
       "    <tr>\n",
       "      <th>Gene_id</th>\n",
       "      <th></th>\n",
       "      <th></th>\n",
       "    </tr>\n",
       "  </thead>\n",
       "  <tbody>\n",
       "    <tr>\n",
       "      <th>Phatr3_J42768</th>\n",
       "      <td>0</td>\n",
       "      <td>1</td>\n",
       "    </tr>\n",
       "  </tbody>\n",
       "</table>\n",
       "</div>"
      ],
      "text/plain": [
       "              Onehot Prob\n",
       "Gene_id                  \n",
       "Phatr3_J42768      0    1"
      ]
     },
     "execution_count": 30,
     "metadata": {},
     "output_type": "execute_result"
    }
   ],
   "source": [
    "########### Check Onehot result ##########\n",
    "TPM_class_onehot.loc[Sub_group.index[ID_pick]]"
   ]
  },
  {
   "cell_type": "code",
   "execution_count": 28,
   "metadata": {
    "scrolled": false
   },
   "outputs": [
    {
     "data": {
      "text/plain": [
       "8937"
      ]
     },
     "execution_count": 28,
     "metadata": {},
     "output_type": "execute_result"
    }
   ],
   "source": [
    "########### Check number of genes with given Prob threshold ##########\n",
    "Sub_group = TPM_class_onehot[TPM_class_onehot.Prob>0.7]\n",
    "len(Sub_group)"
   ]
  },
  {
   "cell_type": "code",
   "execution_count": 31,
   "metadata": {
    "scrolled": true
   },
   "outputs": [
    {
     "name": "stdout",
     "output_type": "stream",
     "text": [
      "0. No effect 4670 -- 46%\n",
      "1. MT enhanced up-regulation 1488 -- 15%\n",
      "2. MT enhanced down-regulation 549 -- 5%\n",
      "3. MT reduced up-regulation 1110 -- 11%\n",
      "4. MT reduced down-regulation 970 -- 10%\n",
      "5. Level up 718 -- 7%\n",
      "6. Level down 549 -- 5%\n"
     ]
    }
   ],
   "source": [
    "########### Percentage of genes in each category with given Prob threshold ##########\n",
    "\n",
    "for i in range(7):\n",
    "    Sub_group = TPM_class_onehot[TPM_class_onehot.Onehot==i]\n",
    "    len_group = len(Sub_group[Sub_group.Prob>0])\n",
    "    print(Categories[i],len_group,'--',\"{:.0%}\".format(len_group/len(TPM_class_onehot)))"
   ]
  },
  {
   "cell_type": "code",
   "execution_count": 32,
   "metadata": {},
   "outputs": [
    {
     "name": "stdout",
     "output_type": "stream",
     "text": [
      "186 -- 32%\n",
      "73 -- 13%\n",
      "54 -- 9%\n",
      "70 -- 12%\n",
      "77 -- 13%\n",
      "59 -- 10%\n",
      "63 -- 11%\n",
      "582 -- 6%\n"
     ]
    }
   ],
   "source": [
    "sub_len = 0\n",
    "for i in range(7):\n",
    "    Sub_group = TPM_class_onehot[TPM_class_onehot.Onehot==i]\n",
    "    len_group = len(Sub_group[Sub_group.Prob<0.6])\n",
    "    sub_len +=len_group\n",
    "    \n",
    "for i in range(7):\n",
    "    Sub_group = TPM_class_onehot[TPM_class_onehot.Onehot==i]\n",
    "    len_group = len(Sub_group[Sub_group.Prob<0.6])\n",
    "    print(len_group,'--',\"{:.0%}\".format(len_group/sub_len))\n",
    "\n",
    "print(sub_len,'--',\"{:.0%}\".format(sub_len/len(TPM_class_onehot)))"
   ]
  },
  {
   "cell_type": "code",
   "execution_count": 34,
   "metadata": {},
   "outputs": [
    {
     "data": {
      "image/png": "[encoded data removed]",
      "text/plain": [
       "<matplotlib.figure.Figure at 0x11ad045c0>"
      ]
     },
     "metadata": {},
     "output_type": "display_data"
    }
   ],
   "source": [
    "# Overall prob distributions from simulation result\n",
    "%matplotlib inline\n",
    "color_code = ['red', 'orange', 'yellow', 'green', 'blue', 'indigo','violet']\n",
    "colors = [color_code[i] for i in  TPM_class_onehot.Onehot.values.tolist()]\n",
    "f,ax = plt.subplots(1,1,figsize = (16,3))\n",
    "ax.scatter(range(len(TPM_class_onehot)),TPM_class_onehot.Prob,marker = '.',c=color_code,s=30)\n",
    "# ax.plot(range(len(TPM_class_onehot)),sorted(TPM_class_onehot.Prob),color = 'black')\n",
    "ax.set_xlim([0,len(TPM_class_onehot)]);\n",
    "ax.set_ylim([0,1]);"
   ]
  },
  {
   "cell_type": "code",
   "execution_count": 35,
   "metadata": {},
   "outputs": [
    {
     "data": {
      "image/png": "[encoded data removed]",
      "text/plain": [
       "<matplotlib.figure.Figure at 0x11acab438>"
      ]
     },
     "metadata": {},
     "output_type": "display_data"
    }
   ],
   "source": [
    "# Over all gene (with Prob) distributions by category\n",
    "Length = []\n",
    "for i in range(7):\n",
    "    Sub_group = TPM_class_onehot[TPM_class_onehot.Onehot==i]\n",
    "    Length.append(len(Sub_group))\n",
    "xx = np.zeros(len(Length))\n",
    "xx[0] = Length[0]\n",
    "for i in range(1,len(Length)):\n",
    "    xx[i] = xx[i-1] + Length[i]\n",
    "Length = [0.0]+list(xx)\n",
    "\n",
    "\n",
    "# Distribution of the gene expression patterns\n",
    "%matplotlib inline\n",
    "color_code = ['red', 'orange', 'yellow', 'green', 'blue', 'indigo','violet']\n",
    "f,ax = plt.subplots(1,1,figsize = (16,2))\n",
    "for i in range(1,len(Length)):\n",
    "    ax.fill_between([Length[i-1],Length[i]], 0, 0.5,color = color_code[i-1],zorder=0)\n",
    "ax.yaxis.set_visible(False)\n",
    "ax.set_xlim([0,len(TPM_class_onehot)]);\n",
    "ax.axis('off');"
   ]
  },
  {
   "cell_type": "code",
   "execution_count": 16,
   "metadata": {
    "collapsed": true
   },
   "outputs": [],
   "source": [
    "# Trim data by merging with annotation table\n",
    "TPM_class_final.columns = Categories"
   ]
  },
  {
   "cell_type": "code",
   "execution_count": 17,
   "metadata": {
    "collapsed": true
   },
   "outputs": [],
   "source": [
    "#Pathway annotation using Sarah's data plus Nymark 2009\n",
    "PT3_DN_Group = pd.read_csv('/Users/niudu/Library/Mobile Documents/com~apple~CloudDocs/Dissertation/Jupyter_notebook/System_bio/Annotation/PT3_Annotation_DN_090617_merged.csv')\n",
    "PT3_DN_Group = PT3_DN_Group[['Pt3_ID','pt3_KOG_id','Note','Class','Group']].drop_duplicates(subset='Pt3_ID', keep='last').set_index('Pt3_ID')"
   ]
  },
  {
   "cell_type": "code",
   "execution_count": 37,
   "metadata": {
    "collapsed": true
   },
   "outputs": [],
   "source": [
    "TPM_class = TPM_class_onehot.merge(PT3_DN_Group,how = 'outer',left_index=True,right_index=True).drop_duplicates()"
   ]
  },
  {
   "cell_type": "code",
   "execution_count": null,
   "metadata": {
    "collapsed": true
   },
   "outputs": [],
   "source": [
    "# Display some of the predicted results and check if correct\n",
    "%matplotlib notebook\n",
    "for ix in TPM_class[TPM_class.Class == 'Translation, ribosomal structure and biogenesis'].index[1:20]:\n",
    "    Curate_Gene(TPM.loc[[ix]],TPM_class_onehot.loc[[ix]])"
   ]
  },
  {
   "cell_type": "code",
   "execution_count": 40,
   "metadata": {
    "collapsed": true
   },
   "outputs": [],
   "source": [
    "TPM_class.to_pickle('./TPM_class.pkl')\n",
    "TPM.to_pickle('./TPM.pkl')\n"
   ]
  },
  {
   "cell_type": "code",
   "execution_count": 55,
   "metadata": {
    "collapsed": true
   },
   "outputs": [],
   "source": [
    "# Example exporting final result\n",
    "TPM_class[TPM_class.Onehot == 1].drop_duplicates().to_csv('./Mutant_up.csv')"
   ]
  }
 ],
 "metadata": {
  "anaconda-cloud": {},
  "kernelspec": {
   "display_name": "Python 3",
   "language": "python",
   "name": "python3"
  },
  "language_info": {
   "codemirror_mode": {
    "name": "ipython",
    "version": 3
   },
   "file_extension": ".py",
   "mimetype": "text/x-python",
   "name": "python",
   "nbconvert_exporter": "python",
   "pygments_lexer": "ipython3",
   "version": "3.5.4"
  }
 },
 "nbformat": 4,
 "nbformat_minor": 2
}
