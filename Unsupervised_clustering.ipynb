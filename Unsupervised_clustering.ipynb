{
 "cells": [
  {
   "cell_type": "code",
   "execution_count": 10,
   "metadata": {
    "collapsed": true
   },
   "outputs": [],
   "source": [
    "import pandas as pd\n",
    "import seaborn as sns\n",
    "import matplotlib.pyplot as plt\n",
    "import numpy as np\n",
    "from scipy.spatial.distance import pdist, squareform\n",
    "import scipy.cluster.hierarchy as sch\n",
    "from scipy.cluster.hierarchy import linkage, dendrogram, cophenet, fcluster\n",
    "from astropy.stats import biweight_midcorrelation \n",
    "from scipy.stats import linregress,moment\n",
    "from scipy.interpolate import interp1d\n",
    "\n",
    "%matplotlib inline\n",
    "np.set_printoptions(precision=5, suppress=True)  # suppress scientific float notation"
   ]
  },
  {
   "cell_type": "code",
   "execution_count": 11,
   "metadata": {
    "collapsed": true
   },
   "outputs": [],
   "source": [
    "sns.set(context='paper', style=\"whitegrid\", palette='dark', font='sans-serif:Arial', font_scale=1, color_codes=False, rc=None)\n",
    "sns.set_style(\"ticks\", {\"xtick.major.size\": 3, \"ytick.major.size\": 3})\n",
    "sns.set_context(\"paper\", rc={\"font.size\":12,\"axes.titlesize\":12,\"axes.labelsize\":12})   "
   ]
  },
  {
   "cell_type": "code",
   "execution_count": 12,
   "metadata": {
    "collapsed": true
   },
   "outputs": [],
   "source": [
    "# Load in pathway dict\n",
    "\n",
    "import pickle\n",
    "def save_obj(obj, name ):\n",
    "    with open(name + '.pkl', 'wb') as f:\n",
    "        pickle.dump(obj, f, pickle.HIGHEST_PROTOCOL)\n",
    "\n",
    "def load_obj(name ):\n",
    "    with open(name + '.pkl', 'rb') as f:\n",
    "        return pickle.load(f)\n",
    "    \n",
    "# Pathway dict using Cobra\n",
    "#Pathway_dict = load_obj('/Users/niudu/Library/Mobile Documents/com~apple~CloudDocs/Dissertation/Jupyter_notebook/System_bio/Annotation/PT3_pathway.pkl')\n",
    "\n",
    "# Pathway dict using Flip's data\n",
    "# Pathway_dict = load_obj('/Users/niudu/Library/Mobile Documents/com~apple~CloudDocs/Dissertation/Jupyter_notebook/System_bio/Annotation/PT3_pathway_Flip.pkl')\n",
    "\n",
    "#Pathway annotation using Sarah's data plus Nymark 2009\n",
    "PT3_DN_Group = pd.read_csv('/Users/niudu/Library/Mobile Documents/com~apple~CloudDocs/Dissertation/Jupyter_notebook/System_bio/Annotation/PT3_Annotation_DN_090617_merged.csv')\n",
    "PT3_DN_Group = PT3_DN_Group.set_index('Pt3_ID')"
   ]
  },
  {
   "cell_type": "code",
   "execution_count": 13,
   "metadata": {
    "collapsed": true
   },
   "outputs": [],
   "source": [
    "# Connectivity: Gene connectivity K= row sum of the adjacency matrix=number of direct neighbors\n",
    "# Unweighted network, convert data_dist (adjacency) to binary matrix\n",
    "def K_binary(data_dist,tau): # threshold for connectivity tau in [0,1]\n",
    "    temp = np.where(data_dist>tau,1,data_dist)\n",
    "    return sum(np.where(data_dist<tau,0,temp))\n",
    "\n",
    "def Finding_tau(data_dist,tau = 0.4, bins = 20): # test tau starting from 0.5\n",
    "    tau_tested = []\n",
    "    GOF = []\n",
    "    mean_K = []\n",
    "    for test_tau in np.linspace(tau,0.95,10):\n",
    "        tau_tested.append(test_tau)\n",
    "        K_unweighted = K_binary(data_dist,test_tau)\n",
    "        mean_K.append(np.mean(K_unweighted))\n",
    "        hist_data= plt.hist(K_unweighted,bins = bins)\n",
    "        p_K = hist_data[0]/sum(hist_data[0])\n",
    "        fitting = linregress(np.log10(hist_data[1][1:]),np.log10(p_K))\n",
    "        GOF.append(fitting.rvalue**2)\n",
    "        plt.close()\n",
    "    return tau_tested,GOF,mean_K"
   ]
  },
  {
   "cell_type": "code",
   "execution_count": 14,
   "metadata": {
    "collapsed": true
   },
   "outputs": [],
   "source": [
    "# Function to find key by value\n",
    "def find_key(input_dict, value):\n",
    "     return next((k for k, v in input_dict.items() if value in v), None)"
   ]
  },
  {
   "cell_type": "code",
   "execution_count": 15,
   "metadata": {},
   "outputs": [
    {
     "ename": "NameError",
     "evalue": "name 'B' is not defined",
     "output_type": "error",
     "traceback": [
      "\u001b[0;31m---------------------------------------------------------------------------\u001b[0m",
      "\u001b[0;31mNameError\u001b[0m                                 Traceback (most recent call last)",
      "\u001b[0;32m<ipython-input-15-e3fb2de245ee>\u001b[0m in \u001b[0;36m<module>\u001b[0;34m()\u001b[0m\n\u001b[1;32m      1\u001b[0m \u001b[0;31m# counting method, backup no use maybe\u001b[0m\u001b[0;34m\u001b[0m\u001b[0;34m\u001b[0m\u001b[0m\n\u001b[0;32m----> 2\u001b[0;31m \u001b[0munique\u001b[0m\u001b[0;34m,\u001b[0m \u001b[0mcounts\u001b[0m \u001b[0;34m=\u001b[0m \u001b[0mnp\u001b[0m\u001b[0;34m.\u001b[0m\u001b[0munique\u001b[0m\u001b[0;34m(\u001b[0m\u001b[0mB\u001b[0m\u001b[0;34m,\u001b[0m \u001b[0mreturn_counts\u001b[0m\u001b[0;34m=\u001b[0m\u001b[0;32mTrue\u001b[0m\u001b[0;34m)\u001b[0m\u001b[0;34m\u001b[0m\u001b[0m\n\u001b[0m",
      "\u001b[0;31mNameError\u001b[0m: name 'B' is not defined"
     ]
    }
   ],
   "source": [
    "# counting method, backup no use maybe\n",
    "unique, counts = np.unique(B, return_counts=True)"
   ]
  },
  {
   "cell_type": "code",
   "execution_count": 16,
   "metadata": {
    "collapsed": true
   },
   "outputs": [],
   "source": [
    "# Import data\n",
    "'''\n",
    "Flip experiment design \n",
    "\n",
    "NH4+ -- growth to exponential, sample and transfer\n",
    "\n",
    "N-free wash and incubation 2 h, sample\n",
    "\n",
    "Add NO3-, sample at 3, 18, 42 66 90 114, 138, 162, 228  hours\n",
    "\n",
    "NO3- depleted from media between 3 and 18 h (NO3 uptake analysis);\n",
    "18 to 42 h cells “sense” onset of N-limitation (NO3 uptake analysis and transcriptome results);\n",
    "66 – 228 h, N-stress response (transcriptome results).  '''\n",
    "\n",
    "\n",
    "Sara_data = pd.read_csv('./Chapter_I_modeling/Transcript/Sara_table_simple.csv')\n",
    "# Sarah_data_repeat = pd.read_csv('./Chapter_I_modeling/Transcript/Sarah_data_repeat.csv')\n",
    "#Flip_WT_data = pd.read_csv('./Chapter_I_modeling/Transcript/Flip_transcriptome_data.csv')\n",
    "#Flip_NR_data = pd.read_csv('./Chapter_I_modeling/Transcript/Flip_NR_KO_trans.csv')\n",
    "\n"
   ]
  },
  {
   "cell_type": "code",
   "execution_count": 519,
   "metadata": {},
   "outputs": [
    {
     "data": {
      "text/plain": [
       "\"Flip_WT = Flip_WT_data[['Pt3_ID', 'DS2_WT_N-free_A', 'DS2_WT_1h_A',\\n       'DS2_WT_18h_A', 'DS2_WT_42h_A', 'DS2_WT_66h_A', 'DS2_WT_90h_A',\\n       'DS2_WT_114h_A', 'DS2_WT_138h_A', 'DS2_WT_162h_A', 'DS2_WT_228h_A']]\\n\\nFlip_WT= Flip_WT[Flip_WT.mean(axis = 1)>10].set_index('Pt3_ID')\\nGene_id = Flip_WT.index\""
      ]
     },
     "execution_count": 519,
     "metadata": {},
     "output_type": "execute_result"
    }
   ],
   "source": [
    "# Flip data\n",
    "\n",
    "'''Flip_WT = Flip_WT_data[['Pt3_ID', 'DS2_WT_N-free_A', 'DS2_WT_1h_A',\n",
    "       'DS2_WT_18h_A', 'DS2_WT_42h_A', 'DS2_WT_66h_A', 'DS2_WT_90h_A',\n",
    "       'DS2_WT_114h_A', 'DS2_WT_138h_A', 'DS2_WT_162h_A', 'DS2_WT_228h_A']]\n",
    "\n",
    "Flip_WT= Flip_WT[Flip_WT.mean(axis = 1)>10].set_index('Pt3_ID')\n",
    "Gene_id = Flip_WT.index'''"
   ]
  },
  {
   "cell_type": "code",
   "execution_count": 520,
   "metadata": {
    "collapsed": true
   },
   "outputs": [],
   "source": [
    "# Biweighted correlation is good for more than 20 samples, otherwise the correlation might be over fitted\n",
    "# biweight_midcorrelation(Sara_data_Pt3.loc[Gene_id[1]],Sara_data_Pt3.loc[Gene_id[1]])"
   ]
  },
  {
   "cell_type": "code",
   "execution_count": 17,
   "metadata": {
    "collapsed": true
   },
   "outputs": [],
   "source": [
    "# Initial data trimming\n",
    "Sara_data_Pt3 = Sara_data[['Pt3_ID', 'H_10AM', 'H_2PM', 'H_6PM', 'H_10PM',\n",
    "       'H_2AM', 'H_6AM']]\n",
    "Sara_data_Pt3 = Sara_data_Pt3[Sara_data_Pt3[['H_10AM', 'H_2PM', 'H_6PM', 'H_10PM',\n",
    "       'H_2AM', 'H_6AM']].mean(axis = 1)>5]\n",
    "Sara_data_Pt3 = Sara_data_Pt3.drop_duplicates().set_index('Pt3_ID')\n",
    "Gene_id = Sara_data_Pt3.index\n",
    "# Sara_data_Pt3_day = Sara_data_Pt3"
   ]
  },
  {
   "cell_type": "code",
   "execution_count": 933,
   "metadata": {
    "collapsed": true
   },
   "outputs": [],
   "source": [
    "# Target gene expression patterns that is consistant with GOX_m expression "
   ]
  },
  {
   "cell_type": "code",
   "execution_count": 18,
   "metadata": {
    "collapsed": true
   },
   "outputs": [],
   "source": [
    "PR_list = ['Phatr3_Jdraft1186',\n",
    "'Phatr3_J27726',\n",
    "'Phatr3_J31906',\n",
    "'Phatr3_J22357',\n",
    "'Phatr3_J51214',\n",
    "'Phatr3_J20342',\n",
    "'Phatr3_EG02361',\n",
    "'Phatr3_J50804',\n",
    "'Phatr3_J47395',\n",
    "'Phatr3_Jdraft521',\n",
    "'Phatr3_J22187',\n",
    "'Phatr3_J26432',\n",
    "'Phatr3_J32847',\n",
    "'Phatr3_J54015',\n",
    "'Phatr3_EG02361',\n",
    "'Phatr3_J49047',\n",
    "'Phatr3_J19518',\n",
    "'Phatr3_J49601',\n",
    "'Phatr3_J18572',\n",
    "'Phatr3_J22418',\n",
    "'Phatr3_J14401',\n",
    "'Phatr3_J51970',\n",
    "'Phatr3_J54478',\n",
    "'Phatr3_J22568']\n"
   ]
  },
  {
   "cell_type": "code",
   "execution_count": 19,
   "metadata": {
    "collapsed": true
   },
   "outputs": [],
   "source": [
    "# The weighted coorelation is the adjacency of gene i to gene j\n",
    "# For unsigned network beta = 6\n",
    "#  Weight_Corr_Sara = (Sara_data_Pt3[1:50].T.corr(method='pearson'))**6\n",
    "# For signed network beta = 12\n",
    "# A_Sara_phosyn = (0.5 + 0.5*Sara_data_Pt3.loc[Photosynthesis_related_list].dropna().T.corr(method='pearson'))**12\n",
    "\n",
    "\n",
    "# Sara_data_all = (0.5 + 0.5*Sara_data_Pt3.T.corr(method='pearson'))**12 # Signed adjacency\n",
    "Sara_data_all = (0.5 + 0.5*Sara_data_Pt3.loc[PR_list].T.corr(method='pearson'))**12 # Signed adjacency\n",
    "\n",
    "\n",
    "# Sara_data_all = (0.5 + 0.5*Sara_data_Pt3.T.corr(method='spearman'))**12 # Signed adjacency using spearman correlation\n",
    "\n",
    "\n",
    "# Ref Zhang et al SAGMB Vol 4 No. 1\n",
    "\n",
    "# Less than 20 sample pearson is preffered to avoid overfitting"
   ]
  },
  {
   "cell_type": "code",
   "execution_count": 1092,
   "metadata": {
    "collapsed": true
   },
   "outputs": [],
   "source": [
    "# Weight_Corr_Flip = (0.5 + 0.5*Flip_WT.T.corr(method='pearson'))**12"
   ]
  },
  {
   "cell_type": "code",
   "execution_count": 1099,
   "metadata": {
    "collapsed": true
   },
   "outputs": [],
   "source": [
    "################       Setting gene of interest        ################\n",
    "Gene_int = 'Phatr3_J50804'\n",
    "tau_lim = 0.1"
   ]
  },
  {
   "cell_type": "code",
   "execution_count": 1100,
   "metadata": {
    "collapsed": true
   },
   "outputs": [],
   "source": [
    "GOX_conn = Sara_data_all[[Gene_int]]\n",
    "Conn_list = GOX_conn.sort_values([Gene_int],ascending=0).index.tolist()"
   ]
  },
  {
   "cell_type": "code",
   "execution_count": 1101,
   "metadata": {
    "collapsed": true
   },
   "outputs": [],
   "source": [
    "Pathway_dict_count = {}\n",
    "for i in Pathway_dict.keys():\n",
    "    Pathway_dict_count[i] = len(Pathway_dict[i])"
   ]
  },
  {
   "cell_type": "code",
   "execution_count": 1102,
   "metadata": {
    "collapsed": true
   },
   "outputs": [],
   "source": [
    "# 090617 Follow Sarah's suggestion, change the look at data only above one tau\n",
    "Conn_list = GOX_conn[GOX_conn[Gene_int] > tau_lim]"
   ]
  },
  {
   "cell_type": "code",
   "execution_count": 1103,
   "metadata": {},
   "outputs": [
    {
     "data": {
      "text/plain": [
       "[<matplotlib.lines.Line2D at 0x12b6156a0>]"
      ]
     },
     "execution_count": 1103,
     "metadata": {},
     "output_type": "execute_result"
    },
    {
     "data": {
      "image/png": "[encoded data removed]",
      "text/plain": [
       "<matplotlib.figure.Figure at 0x12b4a3320>"
      ]
     },
     "metadata": {},
     "output_type": "display_data"
    }
   ],
   "source": [
    "plt.plot(np.arange(len(Conn_list)),np.sort(GOX_conn[GOX_conn[Gene_int]>tau_lim][Gene_int].tolist()),'.')"
   ]
  },
  {
   "cell_type": "code",
   "execution_count": 1104,
   "metadata": {
    "collapsed": true
   },
   "outputs": [],
   "source": [
    "# Send these data to Network plot to generate figures\n",
    "Plot_gene_list = Conn_list.merge(PT3_DN_Group, how = 'inner', left_index=True, right_index=True).fillna('Unkonwn')\n",
    "Plot_gene_list = Plot_gene_list.sort_values(Gene_int)\n",
    "Plot_gene_list = Plot_gene_list[Plot_gene_list.Class != 'Unkonwn']\n",
    "Group_list = set(Plot_gene_list.Class)"
   ]
  },
  {
   "cell_type": "code",
   "execution_count": 1105,
   "metadata": {
    "collapsed": true
   },
   "outputs": [],
   "source": [
    "Plot_gene_list = Plot_gene_list[[Gene_int,'Class']]"
   ]
  },
  {
   "cell_type": "code",
   "execution_count": 1106,
   "metadata": {
    "collapsed": true
   },
   "outputs": [],
   "source": [
    "Distribution_gene_list = Plot_gene_list.sort_values('Phatr3_J50804',ascending=False)\n",
    "Distribution_gene_list = Plot_gene_list.sort_values('Class')"
   ]
  },
  {
   "cell_type": "code",
   "execution_count": 1107,
   "metadata": {
    "collapsed": true
   },
   "outputs": [],
   "source": [
    "cid_list = []\n",
    "for cid in set(Distribution_gene_list.Class):\n",
    "    if len(Distribution_gene_list[Distribution_gene_list.Class == cid]) > 20:\n",
    "        cid_list.append(cid)\n",
    "\n",
    "fig_nums = len(cid_list)"
   ]
  },
  {
   "cell_type": "code",
   "execution_count": 1108,
   "metadata": {
    "collapsed": true
   },
   "outputs": [],
   "source": [
    "binBoundaries = np.linspace(0.1,1,20)"
   ]
  },
  {
   "cell_type": "code",
   "execution_count": 1109,
   "metadata": {
    "collapsed": true,
    "scrolled": true
   },
   "outputs": [],
   "source": [
    "Gene_sort_list = Distribution_gene_list.sort_values('Phatr3_J50804',ascending=False)"
   ]
  },
  {
   "cell_type": "code",
   "execution_count": 1081,
   "metadata": {
    "collapsed": true
   },
   "outputs": [],
   "source": [
    "# CDF cumulative density function\n",
    "# Kolmogrov K test"
   ]
  },
  {
   "cell_type": "code",
   "execution_count": 1082,
   "metadata": {},
   "outputs": [
    {
     "data": {
      "text/plain": [
       "9"
      ]
     },
     "execution_count": 1082,
     "metadata": {},
     "output_type": "execute_result"
    }
   ],
   "source": [
    "count"
   ]
  },
  {
   "cell_type": "code",
   "execution_count": 1083,
   "metadata": {},
   "outputs": [
    {
     "data": {
      "text/plain": [
       "<matplotlib.text.Text at 0x12b19d9b0>"
      ]
     },
     "execution_count": 1083,
     "metadata": {},
     "output_type": "execute_result"
    },
    {
     "data": {
      "image/png": "[encoded data removed]",
      "text/plain": [
       "<matplotlib.figure.Figure at 0x12b0e7ba8>"
      ]
     },
     "metadata": {},
     "output_type": "display_data"
    }
   ],
   "source": [
    "fig,ax = plt.subplots(round(fig_nums/2),2,figsize = (10,10),sharex='col', sharey='row')\n",
    "ax = ax.ravel()\n",
    "for count,cid in enumerate(cid_list):\n",
    "    data = Distribution_gene_list[Distribution_gene_list.Class == cid].Phatr3_J50804\n",
    "    hist, bin_edges = np.histogram(data, normed=True,bins = binBoundaries)\n",
    "    hist = hist/sum(hist)\n",
    "    ax[count].bar(list(bin_edges[1:]),list(hist),0.048,alpha=0.9)# align = 'left')\n",
    "    # ax[count].hist(hist,bins = binBoundaries)\n",
    "    # ax[count].plot(bin_data[1][1:],bin_data[0]/sum(bin_data[0]),'.')\n",
    "    # ax[count].set_xlabel((cid,moment(bin_data[0]/sum(bin_data[0]),moment=3)))\n",
    "    ax[count].set_title((cid))\n",
    "    cdf = np.cumsum(hist)\n",
    "    # Use interpolation to target where CDF == 0.5\n",
    "    f = interp1d(list(cdf), list(bin_edges[1:]))\n",
    "    ax[count].text(0.6,0.58,\"CDF(0.6) = %.4f\" %f(0.6))\n",
    "    \n",
    "    # cdf = norm.cdf(bin_data[0])\n",
    "    ax[count].plot(bin_edges[1:],cdf,'--')\n",
    "ax[round(count-1)].set_xlabel('tau')\n",
    "ax[count].set_xlabel('tau')"
   ]
  },
  {
   "cell_type": "code",
   "execution_count": 856,
   "metadata": {},
   "outputs": [
    {
     "ename": "IndexError",
     "evalue": "index out of range",
     "output_type": "error",
     "traceback": [
      "\u001b[0;31m---------------------------------------------------------------------------\u001b[0m",
      "\u001b[0;31mIndexError\u001b[0m                                Traceback (most recent call last)",
      "\u001b[0;32m<ipython-input-856-d537c6c79c5a>\u001b[0m in \u001b[0;36m<module>\u001b[0;34m()\u001b[0m\n\u001b[0;32m----> 1\u001b[0;31m \u001b[0mfig\u001b[0m\u001b[0;34m,\u001b[0m\u001b[0max\u001b[0m \u001b[0;34m=\u001b[0m \u001b[0mplt\u001b[0m\u001b[0;34m.\u001b[0m\u001b[0msubplots\u001b[0m\u001b[0;34m(\u001b[0m\u001b[0mfig_nums\u001b[0m\u001b[0;34m,\u001b[0m\u001b[0;36m1\u001b[0m\u001b[0;34m,\u001b[0m\u001b[0mfigsize\u001b[0m \u001b[0;34m=\u001b[0m \u001b[0;34m(\u001b[0m\u001b[0;36m6\u001b[0m\u001b[0;34m,\u001b[0m\u001b[0;36m16\u001b[0m\u001b[0;34m)\u001b[0m\u001b[0;34m,\u001b[0m\u001b[0msharex\u001b[0m\u001b[0;34m=\u001b[0m\u001b[0;32mTrue\u001b[0m\u001b[0;34m)\u001b[0m\u001b[0;34m\u001b[0m\u001b[0m\n\u001b[0m\u001b[1;32m      2\u001b[0m \u001b[0;32mfor\u001b[0m \u001b[0mcount\u001b[0m\u001b[0;34m,\u001b[0m\u001b[0mcid\u001b[0m \u001b[0;32min\u001b[0m \u001b[0menumerate\u001b[0m\u001b[0;34m(\u001b[0m\u001b[0mcid_list\u001b[0m\u001b[0;34m)\u001b[0m\u001b[0;34m:\u001b[0m\u001b[0;34m\u001b[0m\u001b[0m\n\u001b[1;32m      3\u001b[0m     \u001b[0mdata\u001b[0m \u001b[0;34m=\u001b[0m \u001b[0mDistribution_gene_list\u001b[0m\u001b[0;34m[\u001b[0m\u001b[0mDistribution_gene_list\u001b[0m\u001b[0;34m.\u001b[0m\u001b[0mClass\u001b[0m \u001b[0;34m==\u001b[0m \u001b[0mcid\u001b[0m\u001b[0;34m]\u001b[0m\u001b[0;34m.\u001b[0m\u001b[0mPhatr3_J50804\u001b[0m\u001b[0;34m\u001b[0m\u001b[0m\n\u001b[1;32m      4\u001b[0m     \u001b[0mhist\u001b[0m\u001b[0;34m,\u001b[0m \u001b[0mbin_edges\u001b[0m \u001b[0;34m=\u001b[0m \u001b[0mnp\u001b[0m\u001b[0;34m.\u001b[0m\u001b[0mhistogram\u001b[0m\u001b[0;34m(\u001b[0m\u001b[0mdata\u001b[0m\u001b[0;34m,\u001b[0m \u001b[0mnormed\u001b[0m\u001b[0;34m=\u001b[0m\u001b[0;32mTrue\u001b[0m\u001b[0;34m,\u001b[0m\u001b[0mbins\u001b[0m \u001b[0;34m=\u001b[0m \u001b[0mbinBoundaries\u001b[0m\u001b[0;34m)\u001b[0m\u001b[0;34m\u001b[0m\u001b[0m\n\u001b[1;32m      5\u001b[0m     \u001b[0mhist\u001b[0m \u001b[0;34m=\u001b[0m \u001b[0mhist\u001b[0m\u001b[0;34m/\u001b[0m\u001b[0msum\u001b[0m\u001b[0;34m(\u001b[0m\u001b[0mhist\u001b[0m\u001b[0;34m)\u001b[0m\u001b[0;34m\u001b[0m\u001b[0m\n",
      "\u001b[0;32m/Volumes/Files/App/anaconda/lib/python3.5/site-packages/matplotlib/pyplot.py\u001b[0m in \u001b[0;36msubplots\u001b[0;34m(nrows, ncols, sharex, sharey, squeeze, subplot_kw, gridspec_kw, **fig_kw)\u001b[0m\n\u001b[1;32m   1210\u001b[0m \u001b[0;34m\u001b[0m\u001b[0m\n\u001b[1;32m   1211\u001b[0m     \u001b[0;31m# Create first subplot separately, so we can share it if requested\u001b[0m\u001b[0;34m\u001b[0m\u001b[0;34m\u001b[0m\u001b[0m\n\u001b[0;32m-> 1212\u001b[0;31m     \u001b[0max0\u001b[0m \u001b[0;34m=\u001b[0m \u001b[0mfig\u001b[0m\u001b[0;34m.\u001b[0m\u001b[0madd_subplot\u001b[0m\u001b[0;34m(\u001b[0m\u001b[0mgs\u001b[0m\u001b[0;34m[\u001b[0m\u001b[0;36m0\u001b[0m\u001b[0;34m,\u001b[0m \u001b[0;36m0\u001b[0m\u001b[0;34m]\u001b[0m\u001b[0;34m,\u001b[0m \u001b[0;34m**\u001b[0m\u001b[0msubplot_kw\u001b[0m\u001b[0;34m)\u001b[0m\u001b[0;34m\u001b[0m\u001b[0m\n\u001b[0m\u001b[1;32m   1213\u001b[0m     \u001b[0maxarr\u001b[0m\u001b[0;34m[\u001b[0m\u001b[0;36m0\u001b[0m\u001b[0;34m]\u001b[0m \u001b[0;34m=\u001b[0m \u001b[0max0\u001b[0m\u001b[0;34m\u001b[0m\u001b[0m\n\u001b[1;32m   1214\u001b[0m \u001b[0;34m\u001b[0m\u001b[0m\n",
      "\u001b[0;32m/Volumes/Files/App/anaconda/lib/python3.5/site-packages/matplotlib/gridspec.py\u001b[0m in \u001b[0;36m__getitem__\u001b[0;34m(self, key)\u001b[0m\n\u001b[1;32m    156\u001b[0m                     \u001b[0mk1\u001b[0m \u001b[0;34m+=\u001b[0m \u001b[0mnrows\u001b[0m\u001b[0;34m\u001b[0m\u001b[0m\n\u001b[1;32m    157\u001b[0m                 \u001b[0;32mif\u001b[0m \u001b[0mk1\u001b[0m \u001b[0;34m>=\u001b[0m \u001b[0mnrows\u001b[0m \u001b[0;32mor\u001b[0m \u001b[0mk1\u001b[0m \u001b[0;34m<\u001b[0m \u001b[0;36m0\u001b[0m \u001b[0;34m:\u001b[0m\u001b[0;34m\u001b[0m\u001b[0m\n\u001b[0;32m--> 158\u001b[0;31m                     \u001b[0;32mraise\u001b[0m \u001b[0mIndexError\u001b[0m\u001b[0;34m(\u001b[0m\u001b[0;34m\"index out of range\"\u001b[0m\u001b[0;34m)\u001b[0m\u001b[0;34m\u001b[0m\u001b[0m\n\u001b[0m\u001b[1;32m    159\u001b[0m                 \u001b[0mrow1\u001b[0m\u001b[0;34m,\u001b[0m \u001b[0mrow2\u001b[0m \u001b[0;34m=\u001b[0m \u001b[0mk1\u001b[0m\u001b[0;34m,\u001b[0m \u001b[0mk1\u001b[0m\u001b[0;34m+\u001b[0m\u001b[0;36m1\u001b[0m\u001b[0;34m\u001b[0m\u001b[0m\n\u001b[1;32m    160\u001b[0m \u001b[0;34m\u001b[0m\u001b[0m\n",
      "\u001b[0;31mIndexError\u001b[0m: index out of range"
     ]
    },
    {
     "data": {
      "text/plain": [
       "<matplotlib.figure.Figure at 0x115e8d828>"
      ]
     },
     "metadata": {},
     "output_type": "display_data"
    }
   ],
   "source": [
    "fig,ax = plt.subplots(fig_nums,1,figsize = (6,16),sharex=True)\n",
    "for count,cid in enumerate(cid_list):\n",
    "    data = Distribution_gene_list[Distribution_gene_list.Class == cid].Phatr3_J50804\n",
    "    hist, bin_edges = np.histogram(data, normed=True,bins = binBoundaries)\n",
    "    hist = hist/sum(hist)\n",
    "    ax[count].bar(list(bin_edges[1:]),list(hist),0.048,alpha=0.9)# align = 'left')\n",
    "    # ax[count].hist(hist,bins = binBoundaries)\n",
    "    # ax[count].plot(bin_data[1][1:],bin_data[0]/sum(bin_data[0]),'.')\n",
    "    # ax[count].set_xlabel((cid,moment(bin_data[0]/sum(bin_data[0]),moment=3)))\n",
    "    ax[count].set_title((cid))\n",
    "    cdf = np.cumsum(hist)\n",
    "    # Use interpolation to target where CDF == 0.5\n",
    "    f = interp1d(list(cdf), list(bin_edges[1:]))\n",
    "    ax[count].text(0.8,0.58,\"CDF(0.6) = %.4f\" %f(0.6))\n",
    "    # cdf = norm.cdf(bin_data[0])\n",
    "    ax[count].plot(bin_edges[1:],cdf,'--')"
   ]
  },
  {
   "cell_type": "code",
   "execution_count": 1084,
   "metadata": {
    "collapsed": true
   },
   "outputs": [],
   "source": [
    "# Here I add the genes to their corresponding pathway\n",
    "\n",
    "Pathway_list = list(set(PT3_DN_Group.Class.fillna('Unkonwn')))\n",
    "pathway_gene = []\n",
    "for pid in Pathway_list:\n",
    "    pathway_gene.append(Plot_gene_list[Plot_gene_list.Class == pid].index.tolist())\n",
    "Pathway_dict = dict(zip(Pathway_list,pathway_gene))\n",
    "save_obj(Pathway_dict,'/Users/niudu/Library/Mobile Documents/com~apple~CloudDocs/Dissertation/Jupyter_notebook/System_bio/Annotation/Pathway_dict.pkl')\n",
    "adjacency_list = dict(zip(Plot_gene_list.index,Plot_gene_list[Gene_int]))\n",
    "save_obj(adjacency_list,'/Users/niudu/Library/Mobile Documents/com~apple~CloudDocs/Dissertation/Jupyter_notebook/System_bio/Annotation/adjacency_list.pkl')"
   ]
  },
  {
   "cell_type": "code",
   "execution_count": 352,
   "metadata": {},
   "outputs": [
    {
     "name": "stderr",
     "output_type": "stream",
     "text": [
      "/Volumes/Files/App/anaconda/lib/python3.5/site-packages/pandas/core/reshape/merge.py:722: RuntimeWarning: unorderable types: NoneType() < str(), sort order is undefined for incomparable objects\n",
      "  sort=self.sort)\n"
     ]
    }
   ],
   "source": [
    "### Below are methods that I did not use ###\n",
    "\n",
    "# Here calculates the occurance of sepcific genes that are associated with certain pathways,\n",
    "# based on the weighted adjacency table\n",
    "\n",
    "Conn_list_1 = GOX_conn[GOX_conn['Phatr3_J50804'] > 0.75].index\n",
    "Conn_list_2 = GOX_conn[GOX_conn['Phatr3_J50804'].between(0.5,0.75)].index\n",
    "Conn_list_3 = GOX_conn[GOX_conn['Phatr3_J50804'].between(0.25,0.5)].index\n",
    "\n",
    "def count_occurance(Conn_list):\n",
    "    Pathway_list = []\n",
    "    for gid in Conn_list:\n",
    "        Pathway_list.append(find_key(Pathway_dict,gid)) # from the pathway dict to find the gene correspondant pathway \n",
    "    Occurance_table = pd.DataFrame(index = list(set(Pathway_list))) \n",
    "    Occurance_table['counts'] = 0\n",
    "    for pathway_id in Pathway_list:\n",
    "        Occurance_table['counts'].loc[pathway_id]+=1    \n",
    "    return Occurance_table\n",
    "\n",
    "count_1 = count_occurance(Conn_list_1)\n",
    "count_1.columns = ['Layer_1']\n",
    "count_2 = count_occurance(Conn_list_2)\n",
    "count_2.columns = ['Layer_2']\n",
    "count_3 = count_occurance(Conn_list_3)\n",
    "count_3.columns = ['Layer_3']\n",
    "\n",
    "count_table = count_1.merge(count_2.merge(count_3,left_index = True,right_index = True,how = 'outer'),left_index = True,right_index = True,how = 'outer')\n",
    "count_table = count_table.drop(np.nan)"
   ]
  },
  {
   "cell_type": "code",
   "execution_count": 360,
   "metadata": {
    "collapsed": true
   },
   "outputs": [],
   "source": [
    "def count_occurance(Conn_list):\n",
    "    Occuring_dict = {}\n",
    "    for gid in Conn_list_2:\n",
    "        Target_pathway = find_key(Pathway_dict,gid)\n",
    "        if Target_pathway is not None:\n",
    "            Occuring_dict[gid] = Target_pathway\n",
    "    return Occuring_dict"
   ]
  },
  {
   "cell_type": "code",
   "execution_count": 363,
   "metadata": {},
   "outputs": [
    {
     "data": {
      "text/plain": [
       "{'C_fixation_list',\n",
       " 'Lipid_related_list',\n",
       " 'N_assim_list',\n",
       " 'Photosynthesis_related_list'}"
      ]
     },
     "execution_count": 363,
     "metadata": {},
     "output_type": "execute_result"
    }
   ],
   "source": [
    "Conn_list_1 = GOX_conn[GOX_conn['Phatr3_J50804'] > 0.75].index\n",
    "Conn_list_2 = GOX_conn[GOX_conn['Phatr3_J50804'].between(0.5,0.75)].index\n",
    "Conn_list_3 = GOX_conn[GOX_conn['Phatr3_J50804'].between(0.25,0.5)].index\n",
    "\n",
    "Occuring_dict_1 = count_occurance(Conn_list_1)\n",
    "Occuring_dict_2 = count_occurance(Conn_list_2)\n",
    "Occuring_dict_3 = count_occurance(Conn_list_3)\n",
    "\n",
    "set(Occuring_dict_1.values())\n"
   ]
  },
  {
   "cell_type": "code",
   "execution_count": 323,
   "metadata": {},
   "outputs": [
    {
     "name": "stderr",
     "output_type": "stream",
     "text": [
      "/Volumes/Files/App/anaconda/lib/python3.5/site-packages/pandas/core/indexing.py:179: SettingWithCopyWarning: \n",
      "A value is trying to be set on a copy of a slice from a DataFrame\n",
      "\n",
      "See the caveats in the documentation: http://pandas.pydata.org/pandas-docs/stable/indexing.html#indexing-view-versus-copy\n",
      "  self._setitem_with_indexer(indexer, value)\n"
     ]
    }
   ],
   "source": [
    "count_table_ratio = count_table\n",
    "for pid in count_table.index:\n",
    "    count_table_ratio['Layer_1'].loc[pid] = count_table['Layer_1'].loc[pid]/Pathway_dict_count[pid]\n",
    "    count_table_ratio['Layer_2'].loc[pid] = count_table['Layer_2'].loc[pid]/Pathway_dict_count[pid]\n",
    "    count_table_ratio['Layer_3'].loc[pid] = count_table['Layer_3'].loc[pid]/Pathway_dict_count[pid]"
   ]
  },
  {
   "cell_type": "code",
   "execution_count": 336,
   "metadata": {},
   "outputs": [
    {
     "data": {
      "text/html": [
       "<div>\n",
       "<style>\n",
       "    .dataframe thead tr:only-child th {\n",
       "        text-align: right;\n",
       "    }\n",
       "\n",
       "    .dataframe thead th {\n",
       "        text-align: left;\n",
       "    }\n",
       "\n",
       "    .dataframe tbody tr th {\n",
       "        vertical-align: top;\n",
       "    }\n",
       "</style>\n",
       "<table border=\"1\" class=\"dataframe\">\n",
       "  <thead>\n",
       "    <tr style=\"text-align: right;\">\n",
       "      <th></th>\n",
       "      <th>Layer_1</th>\n",
       "      <th>Layer_2</th>\n",
       "      <th>Layer_3</th>\n",
       "    </tr>\n",
       "  </thead>\n",
       "  <tbody>\n",
       "    <tr>\n",
       "      <th>Lipid_related_list</th>\n",
       "      <td>5.0</td>\n",
       "      <td>22.0</td>\n",
       "      <td>35</td>\n",
       "    </tr>\n",
       "    <tr>\n",
       "      <th>C_fixation_list</th>\n",
       "      <td>1.0</td>\n",
       "      <td>6.0</td>\n",
       "      <td>11</td>\n",
       "    </tr>\n",
       "    <tr>\n",
       "      <th>Photosynthesis_related_list</th>\n",
       "      <td>NaN</td>\n",
       "      <td>4.0</td>\n",
       "      <td>11</td>\n",
       "    </tr>\n",
       "    <tr>\n",
       "      <th>N_assim_list</th>\n",
       "      <td>NaN</td>\n",
       "      <td>1.0</td>\n",
       "      <td>4</td>\n",
       "    </tr>\n",
       "    <tr>\n",
       "      <th>Ribo_Structure_list</th>\n",
       "      <td>NaN</td>\n",
       "      <td>NaN</td>\n",
       "      <td>1</td>\n",
       "    </tr>\n",
       "  </tbody>\n",
       "</table>\n",
       "</div>"
      ],
      "text/plain": [
       "                             Layer_1  Layer_2  Layer_3\n",
       "Lipid_related_list               5.0     22.0       35\n",
       "C_fixation_list                  1.0      6.0       11\n",
       "Photosynthesis_related_list      NaN      4.0       11\n",
       "N_assim_list                     NaN      1.0        4\n",
       "Ribo_Structure_list              NaN      NaN        1"
      ]
     },
     "execution_count": 336,
     "metadata": {},
     "output_type": "execute_result"
    }
   ],
   "source": [
    "count_table"
   ]
  },
  {
   "cell_type": "code",
   "execution_count": 337,
   "metadata": {
    "collapsed": true
   },
   "outputs": [],
   "source": [
    "save_obj(count_table_ratio,'./Chapter_I_modeling/Transcript/count_table_ratio.pkl')\n",
    "save_obj(Pathway_dict,'./Chapter_I_modeling/Transcript/Pathway_dict.pkl')\n",
    "save_obj(count_table,'./Chapter_I_modeling/Transcript/count_table.pkl')"
   ]
  },
  {
   "cell_type": "code",
   "execution_count": null,
   "metadata": {
    "collapsed": true
   },
   "outputs": [],
   "source": [
    "### Below are additional calculations not used ###"
   ]
  },
  {
   "cell_type": "code",
   "execution_count": 409,
   "metadata": {
    "collapsed": true
   },
   "outputs": [],
   "source": [
    "# Sara's data\n",
    "data_dist = Sara_data_all.as_matrix()\n",
    "Sample_ids = Sara_data_all.index"
   ]
  },
  {
   "cell_type": "code",
   "execution_count": 48,
   "metadata": {
    "collapsed": true
   },
   "outputs": [],
   "source": [
    "data_link = linkage(data_dist,'ward')"
   ]
  },
  {
   "cell_type": "code",
   "execution_count": 12,
   "metadata": {
    "collapsed": true
   },
   "outputs": [],
   "source": [
    "# Flip WT N-free wash\n",
    "data_dist = Weight_Corr_Flip.as_matrix()\n",
    "Sample_ids = Weight_Corr_Flip.index"
   ]
  },
  {
   "cell_type": "code",
   "execution_count": 107,
   "metadata": {
    "scrolled": true
   },
   "outputs": [
    {
     "name": "stderr",
     "output_type": "stream",
     "text": [
      "/Volumes/Files/App/anaconda/lib/python3.5/site-packages/ipykernel/__main__.py:17: RuntimeWarning: divide by zero encountered in log10\n",
      "/Volumes/Files/App/anaconda/lib/python3.5/site-packages/numpy/lib/function_base.py:3082: RuntimeWarning: invalid value encountered in subtract\n",
      "  X -= avg[:, None]\n"
     ]
    }
   ],
   "source": [
    "GOX_related_list = Sara_data_all[['Phatr3_J50804']].sort_values('Phatr3_J50804',ascending = False)[0:100].index"
   ]
  },
  {
   "cell_type": "code",
   "execution_count": 410,
   "metadata": {
    "collapsed": true
   },
   "outputs": [],
   "source": [
    "testing = Finding_tau(data_dist)"
   ]
  },
  {
   "cell_type": "code",
   "execution_count": 411,
   "metadata": {},
   "outputs": [
    {
     "data": {
      "text/plain": [
       "<matplotlib.text.Text at 0x11876b940>"
      ]
     },
     "execution_count": 411,
     "metadata": {},
     "output_type": "execute_result"
    },
    {
     "data": {
      "image/png": "[encoded data removed]",
      "text/plain": [
       "<matplotlib.figure.Figure at 0x1151474a8>"
      ]
     },
     "metadata": {},
     "output_type": "display_data"
    }
   ],
   "source": [
    "f,ax = plt.subplots(1,2,figsize = (12,4))\n",
    "ax[0].plot(testing[0],testing[1],'o-')\n",
    "ax[1].plot(testing[0],testing[2],'o-')\n",
    "ax[0].set_title('criterion A')\n",
    "ax[1].set_title('criterion B')\n",
    "ax[0].set_xlabel('tau')\n",
    "ax[0].set_ylabel('R^2')\n",
    "ax[1].set_xlabel('tau')\n",
    "ax[1].set_ylabel('mean(K)')"
   ]
  },
  {
   "cell_type": "code",
   "execution_count": null,
   "metadata": {
    "collapsed": true
   },
   "outputs": [],
   "source": [
    "# From the criterion A we select tau = 0.7 \n",
    "K_unweighted = K_binary(data_dist,0.9)"
   ]
  },
  {
   "cell_type": "code",
   "execution_count": 110,
   "metadata": {
    "collapsed": true
   },
   "outputs": [],
   "source": [
    "K_unweighted = K_binary(GOX_sub_matrix,0.0)"
   ]
  },
  {
   "cell_type": "code",
   "execution_count": 111,
   "metadata": {
    "collapsed": true
   },
   "outputs": [],
   "source": [
    "unique, counts = np.unique(K_unweighted, return_counts=True)"
   ]
  },
  {
   "cell_type": "code",
   "execution_count": 140,
   "metadata": {
    "scrolled": false
   },
   "outputs": [
    {
     "name": "stderr",
     "output_type": "stream",
     "text": [
      "/Volumes/Files/App/anaconda/lib/python3.5/site-packages/ipykernel/__main__.py:4: RuntimeWarning: divide by zero encountered in log10\n",
      "/Volumes/Files/App/anaconda/lib/python3.5/site-packages/ipykernel/__main__.py:5: RuntimeWarning: divide by zero encountered in log10\n",
      "/Volumes/Files/App/anaconda/lib/python3.5/site-packages/numpy/lib/function_base.py:3082: RuntimeWarning: invalid value encountered in subtract\n",
      "  X -= avg[:, None]\n"
     ]
    },
    {
     "name": "stdout",
     "output_type": "stream",
     "text": [
      "GOF =  nan\n"
     ]
    },
    {
     "data": {
      "image/png": "[encoded data removed]",
      "text/plain": [
       "<matplotlib.figure.Figure at 0x1173f1b00>"
      ]
     },
     "metadata": {},
     "output_type": "display_data"
    }
   ],
   "source": [
    "f,ax = plt.subplots(1,2,figsize = (12,4))\n",
    "hist_data = ax[0].hist(K_unweighted,bins=20)\n",
    "p_K = hist_data[0]/sum(hist_data[0]) # propotion of nodes that have connectivity k\n",
    "ax[1].plot(np.log10(hist_data[1][1:]),np.log10(p_K),'o')\n",
    "fitting = linregress(np.log10(hist_data[1][1:]),np.log10(p_K))\n",
    "ax[1].plot(np.log10(hist_data[1][1:]),np.log10(hist_data[1][1:])*fitting.slope+fitting.intercept)\n",
    "print('GOF = ',fitting.rvalue**2)"
   ]
  },
  {
   "cell_type": "code",
   "execution_count": null,
   "metadata": {
    "collapsed": true
   },
   "outputs": [],
   "source": [
    "f,ax = plt.subplots(1,2,figsize = (12,4))\n",
    "hist_data = ax[0].hist(K,bins=20)\n",
    "ax[1].plot(np.log10(K),np.log10(10**(-K)),'o')\n",
    "fitting = linregress(np.log10(hist_data[1][1:]),np.log10(hist_data[0]))\n",
    "ax[1].plot(np.log10(hist_data[1][1:]),np.log10(hist_data[1][1:])*fitting.slope+fitting.intercept)\n",
    "print('GOF = ',fitting.rvalue**2)"
   ]
  },
  {
   "cell_type": "code",
   "execution_count": null,
   "metadata": {
    "collapsed": true
   },
   "outputs": [],
   "source": [
    "# Weighted network\n",
    "K = sum(data_dist)\n"
   ]
  },
  {
   "cell_type": "code",
   "execution_count": null,
   "metadata": {
    "collapsed": true
   },
   "outputs": [],
   "source": [
    "\n",
    "fitting = linregress(np.log10(hist_data[1][1:]),np.log10(hist_data[0]))"
   ]
  },
  {
   "cell_type": "code",
   "execution_count": null,
   "metadata": {
    "collapsed": true
   },
   "outputs": [],
   "source": [
    "fitting.rvalue**2"
   ]
  },
  {
   "cell_type": "code",
   "execution_count": null,
   "metadata": {
    "collapsed": true,
    "scrolled": true
   },
   "outputs": [],
   "source": [
    "hist_data[0]"
   ]
  },
  {
   "cell_type": "code",
   "execution_count": null,
   "metadata": {
    "collapsed": true
   },
   "outputs": [],
   "source": [
    "hist_data[1][1:]"
   ]
  },
  {
   "cell_type": "code",
   "execution_count": null,
   "metadata": {
    "collapsed": true
   },
   "outputs": [],
   "source": [
    "plt.plot(hist_data[0],hist_data[1])"
   ]
  },
  {
   "cell_type": "code",
   "execution_count": null,
   "metadata": {
    "collapsed": true
   },
   "outputs": [],
   "source": [
    "C1 = dendrogram(data_link, labels=Sample_ids, color_threshold=6)\n",
    "plt.xlabel('Samples')\n",
    "plt.ylabel('Distance')\n",
    "plt.suptitle('Samples clustering', fontweight='bold', fontsize=14);"
   ]
  },
  {
   "cell_type": "code",
   "execution_count": null,
   "metadata": {
    "collapsed": true
   },
   "outputs": [],
   "source": [
    "from scipy import cluster\n",
    "def cut_dendrogram(Z, C1, sample_ids, height):\n",
    "    return pd.Series(cluster.hierarchy.cut_tree(Z, height=height).ravel(), index=sample_ids, name=\"clusters\")[C1[\"ivl\"]]#.sort_values()\n",
    "#cut_dendrogram(data_link, C1, Sample_ids, 6)\n"
   ]
  },
  {
   "cell_type": "code",
   "execution_count": null,
   "metadata": {
    "collapsed": true
   },
   "outputs": [],
   "source": [
    "# Compute and plot first dendrogram.\n",
    "fig = plt.figure(figsize=(8,8))\n",
    "# x ywidth height\n",
    "ax1 = fig.add_axes([0.05,0.1,0.2,0.6])\n",
    "# Y = linkage(data_dist, method='ward')\n",
    "Z1 = dendrogram(data_link, orientation='right',labels=Sample_ids) # adding/removing the axes\n",
    "ax1.set_xticks([])\n",
    "\n",
    "# Compute and plot second dendrogram.\n",
    "ax2 = fig.add_axes([0.3,0.71,0.6,0.1])\n",
    "Z2 = dendrogram(data_link)\n",
    "ax2.set_xticks([])\n",
    "ax2.set_yticks([])\n",
    "\n",
    "#Compute and plot the heatmap\n",
    "axmatrix = fig.add_axes([0.3,0.1,0.75,0.6])\n",
    "idx1 = Z1['leaves']\n",
    "idx2 = Z2['leaves']\n",
    "D = data_dist\n",
    "D = D[idx1,:]\n",
    "D = D[:,idx2]\n",
    "im = sns.heatmap(np.flip(D,0))#, aspect='auto', origin='lower', cmap=plt.cm.YlGnBu)\n",
    "axmatrix.set_xticks([])\n",
    "axmatrix.set_yticks([])\n",
    "\n",
    "# Plot colorbar.\n",
    "#axcolor = fig.add_axes([0.91,0.1,0.02,0.6])\n",
    "# plt.colorbar(im, cax=axcolor)"
   ]
  },
  {
   "cell_type": "code",
   "execution_count": null,
   "metadata": {
    "collapsed": true
   },
   "outputs": [],
   "source": [
    "import networkx as nx\n",
    "from gtom import gtom"
   ]
  },
  {
   "cell_type": "code",
   "execution_count": null,
   "metadata": {
    "collapsed": true
   },
   "outputs": [],
   "source": [
    "G = nx.Graph()\n",
    "G.add_edges_from([(0,1),(1,2),(0,3),(0,4),(0,5),(0,7),\n",
    "                  (1,3),(1,4),(1,6),(1,8),(1,9),(1,10),\n",
    "                  (5,6),(7,8)])\n"
   ]
  },
  {
   "cell_type": "code",
   "execution_count": null,
   "metadata": {
    "collapsed": true
   },
   "outputs": [],
   "source": [
    "N = G.number_of_nodes()\n",
    "A = nx.to_scipy_sparse_matrix(G)\n"
   ]
  },
  {
   "cell_type": "code",
   "execution_count": null,
   "metadata": {
    "collapsed": true
   },
   "outputs": [],
   "source": [
    "f, ax = plt.subplots(figsize=(10, 8))\n",
    "sns.heatmap(Weight_Corr_Sara)"
   ]
  },
  {
   "cell_type": "code",
   "execution_count": null,
   "metadata": {
    "collapsed": true
   },
   "outputs": [],
   "source": [
    "Sara_data.columns"
   ]
  },
  {
   "cell_type": "code",
   "execution_count": null,
   "metadata": {
    "collapsed": true
   },
   "outputs": [],
   "source": [
    "Sara_data[['H_10AM', 'H_2PM', 'H_6PM', 'H_10PM','H_2AM', 'H_6AM']]"
   ]
  },
  {
   "cell_type": "code",
   "execution_count": null,
   "metadata": {
    "collapsed": true
   },
   "outputs": [],
   "source": [
    "# K-mean\n",
    "\n",
    "import numpy as np\n",
    " \n",
    "def cluster_points(X, mu):\n",
    "    clusters  = {}\n",
    "    for x in X:\n",
    "        bestmukey = min([(i[0], np.linalg.norm(x-mu[i[0]]))\n",
    "                    for i in enumerate(mu)], key=lambda t:t[1])[0]\n",
    "        try:\n",
    "            clusters[bestmukey].append(x)\n",
    "        except KeyError:\n",
    "            clusters[bestmukey] = [x]\n",
    "    return clusters\n",
    " \n",
    "def reevaluate_centers(mu, clusters):\n",
    "    newmu = []\n",
    "    keys = sorted(clusters.keys())\n",
    "    for k in keys:\n",
    "        newmu.append(np.mean(clusters[k], axis = 0))\n",
    "    return newmu\n",
    " \n",
    "def has_converged(mu, oldmu):\n",
    "    return (set([tuple(a) for a in mu]) == set([tuple(a) for a in oldmu]))\n",
    "\n",
    "def find_centers(X, K):\n",
    "    # Initialize to K random centers\n",
    "    oldmu = random.sample(X, K)\n",
    "    mu = random.sample(X, K)\n",
    "    while not has_converged(mu, oldmu):\n",
    "        oldmu = mu\n",
    "        # Assign all points in X to clusters\n",
    "        clusters = cluster_points(X, mu)\n",
    "        # Reevaluate centers\n",
    "        mu = reevaluate_centers(oldmu, clusters)\n",
    "    return(mu, clusters)\n",
    "\n"
   ]
  },
  {
   "cell_type": "code",
   "execution_count": 331,
   "metadata": {
    "collapsed": true
   },
   "outputs": [],
   "source": [
    "# This function computes the GTOMm DISSIMILARITY\n",
    "# Python code generated based on Andy M. Yip and Steve Horvath 2005\n",
    "# Input:\n",
    "# - adjmat, a symmetric adjacency matrix with binary entries\n",
    "# - m, the order of GTOM\n",
    "#\n",
    "# Output:\n",
    "# - The GTOMm dissimilarity matrix\n",
    "\n",
    "def GTOM(adjmat_binary,m = 1):\n",
    "    if m!= round(abs(m)):\n",
    "        return\n",
    "    if not np.array_equal(adjmat_binary,adjmat_binary.astype(bool)):\n",
    "        return\n",
    "    \n",
    "    B = adjmat_binary\n",
    "    if m>=2:\n",
    "        for i in range(1,m):\n",
    "            B[np.diag_indices_from(B)] += 1\n",
    "            B = B.dot(adjmat_binary) # number of paths with length at most m connecting each pair\n",
    "            adjmat_binary[np.diag_indices_from(adjmat_binary)] = 1 # data_dist value is altered in the calculation\n",
    "    B = np.where(B>0,1,B) # m-step reachability matrix\n",
    "    B[np.diag_indices_from(B)] = 0        # exclude each node being its own neighbor\n",
    "    B = B.dot(B)                  # number of common k-step neighbors that each pair of nodes share\n",
    "    Nk = B[np.diag_indices_from(B)]                 # number of common k-step neighbors that each node possesses\n",
    "    B = B + adjmat_binary\n",
    "    B[np.diag_indices_from(B)] = 1"
   ]
  }
 ],
 "metadata": {
  "anaconda-cloud": {},
  "kernelspec": {
   "display_name": "Python [Root]",
   "language": "python",
   "name": "Python [Root]"
  },
  "language_info": {
   "codemirror_mode": {
    "name": "ipython",
    "version": 3
   },
   "file_extension": ".py",
   "mimetype": "text/x-python",
   "name": "python",
   "nbconvert_exporter": "python",
   "pygments_lexer": "ipython3",
   "version": "3.5.3"
  }
 },
 "nbformat": 4,
 "nbformat_minor": 2
}
