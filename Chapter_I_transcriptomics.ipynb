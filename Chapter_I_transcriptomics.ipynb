{
 "cells": [
  {
   "cell_type": "code",
   "execution_count": 2,
   "metadata": {
    "collapsed": true
   },
   "outputs": [],
   "source": [
    "# Import system packages\n",
    "import sys\n",
    "import pandas as pd\n",
    "import scipy as sp\n",
    "# from scipy.signal import medfilt\n",
    "from scipy import stats\n",
    "#import statsmodels.api as sm\n",
    "from scipy.optimize import least_squares\n",
    "import numpy as np\n",
    "import os\n",
    "from os.path import dirname, join\n",
    "import math\n",
    "import time\n",
    "import pickle\n",
    "# Import matplotlib packages\n",
    "import matplotlib\n",
    "from matplotlib.backends.backend_qt4agg import FigureCanvasQTAgg as FigureCanvas\n",
    "from matplotlib.backends.backend_qt4agg import NavigationToolbar2QT as NavigationToolbar\n",
    "from matplotlib.figure import Figure\n",
    "import seaborn as sns"
   ]
  },
  {
   "cell_type": "code",
   "execution_count": 3,
   "metadata": {},
   "outputs": [
    {
     "name": "stderr",
     "output_type": "stream",
     "text": [
      "/Volumes/Files/App/anaconda/lib/python3.5/site-packages/IPython/core/interactiveshell.py:2717: DtypeWarning: Columns (0) have mixed types. Specify dtype option on import or set low_memory=False.\n",
      "  interactivity=interactivity, compiler=compiler, result=result)\n"
     ]
    }
   ],
   "source": [
    "Sarah_data = pd.read_csv('./Chapter_I_modeling/Sara_table_simple.csv')\n",
    "Chris_data = pd.read_csv('./Chapter_I_modeling/Chris_transcriptome_simple.csv')"
   ]
  },
  {
   "cell_type": "code",
   "execution_count": 4,
   "metadata": {
    "collapsed": true
   },
   "outputs": [],
   "source": [
    "Chris_data['Pt2_ID'] = Chris_data['Pt2_ID'].values.astype(str)"
   ]
  },
  {
   "cell_type": "code",
   "execution_count": 5,
   "metadata": {
    "collapsed": true
   },
   "outputs": [],
   "source": [
    "Master_data = pd.merge(Sarah_data,Chris_data,on='Pt2_ID',sort = False)"
   ]
  },
  {
   "cell_type": "code",
   "execution_count": 6,
   "metadata": {},
   "outputs": [
    {
     "data": {
      "text/html": [
       "<div>\n",
       "<style>\n",
       "    .dataframe thead tr:only-child th {\n",
       "        text-align: right;\n",
       "    }\n",
       "\n",
       "    .dataframe thead th {\n",
       "        text-align: left;\n",
       "    }\n",
       "\n",
       "    .dataframe tbody tr th {\n",
       "        vertical-align: top;\n",
       "    }\n",
       "</style>\n",
       "<table border=\"1\" class=\"dataframe\">\n",
       "  <thead>\n",
       "    <tr style=\"text-align: right;\">\n",
       "      <th></th>\n",
       "      <th>Pt2_ID</th>\n",
       "      <th>Pt3_ID</th>\n",
       "      <th>update_status</th>\n",
       "      <th>pt3_KOG_desc</th>\n",
       "      <th>pt3_KOG_class</th>\n",
       "      <th>pt3_predicted_targeting_category</th>\n",
       "      <th>pt3_signal_peptide_score</th>\n",
       "      <th>pt3_type_II_signal_anchor_score</th>\n",
       "      <th>pt3_chloroplast_score</th>\n",
       "      <th>pt3_mitochondrion_score</th>\n",
       "      <th>...</th>\n",
       "      <th>pt2msx.RPKM</th>\n",
       "      <th>pt2rapa.RPKM</th>\n",
       "      <th>pt3dash0.RPKM</th>\n",
       "      <th>pt3gsa.RPKM</th>\n",
       "      <th>pt3msx.RPKM</th>\n",
       "      <th>pt3rapa.RPKM</th>\n",
       "      <th>pt4dash0.RPKM</th>\n",
       "      <th>pt4gsa.RPKM</th>\n",
       "      <th>pt4msx.RPKM</th>\n",
       "      <th>pt4rapa.RPKM</th>\n",
       "    </tr>\n",
       "  </thead>\n",
       "  <tbody>\n",
       "    <tr>\n",
       "      <th>4025</th>\n",
       "      <td>22418</td>\n",
       "      <td>Phatr3_J22418</td>\n",
       "      <td>modified</td>\n",
       "      <td>Catalase</td>\n",
       "      <td>Inorganic ion transport and metabolism</td>\n",
       "      <td>other localisation</td>\n",
       "      <td>0.0671</td>\n",
       "      <td>0.0246</td>\n",
       "      <td>NaN</td>\n",
       "      <td>0.0896</td>\n",
       "      <td>...</td>\n",
       "      <td>18.96</td>\n",
       "      <td>19.54</td>\n",
       "      <td>11.95</td>\n",
       "      <td>22.41</td>\n",
       "      <td>25.78</td>\n",
       "      <td>28.41</td>\n",
       "      <td>18.88</td>\n",
       "      <td>24.61</td>\n",
       "      <td>21.91</td>\n",
       "      <td>43.64</td>\n",
       "    </tr>\n",
       "  </tbody>\n",
       "</table>\n",
       "<p>1 rows × 208 columns</p>\n",
       "</div>"
      ],
      "text/plain": [
       "     Pt2_ID         Pt3_ID update_status pt3_KOG_desc  \\\n",
       "4025  22418  Phatr3_J22418      modified     Catalase   \n",
       "\n",
       "                               pt3_KOG_class pt3_predicted_targeting_category  \\\n",
       "4025  Inorganic ion transport and metabolism               other localisation   \n",
       "\n",
       "      pt3_signal_peptide_score  pt3_type_II_signal_anchor_score  \\\n",
       "4025                    0.0671                           0.0246   \n",
       "\n",
       "      pt3_chloroplast_score  pt3_mitochondrion_score      ...       \\\n",
       "4025                    NaN                   0.0896      ...        \n",
       "\n",
       "     pt2msx.RPKM  pt2rapa.RPKM  pt3dash0.RPKM  pt3gsa.RPKM  pt3msx.RPKM  \\\n",
       "4025       18.96         19.54          11.95        22.41        25.78   \n",
       "\n",
       "      pt3rapa.RPKM  pt4dash0.RPKM  pt4gsa.RPKM  pt4msx.RPKM  pt4rapa.RPKM  \n",
       "4025         28.41          18.88        24.61        21.91         43.64  \n",
       "\n",
       "[1 rows x 208 columns]"
      ]
     },
     "execution_count": 6,
     "metadata": {},
     "output_type": "execute_result"
    }
   ],
   "source": [
    "Master_data[Master_data['Pt2_ID'] == '22418']"
   ]
  },
  {
   "cell_type": "code",
   "execution_count": 7,
   "metadata": {
    "collapsed": true
   },
   "outputs": [],
   "source": [
    "Flip_data = pd.read_csv('./Chapter_I_modeling/Flip_transcriptome_data.csv')"
   ]
  },
  {
   "cell_type": "code",
   "execution_count": null,
   "metadata": {
    "collapsed": true
   },
   "outputs": [],
   "source": []
  }
 ],
 "metadata": {
  "anaconda-cloud": {},
  "kernelspec": {
   "display_name": "Python [Root]",
   "language": "python",
   "name": "Python [Root]"
  },
  "language_info": {
   "codemirror_mode": {
    "name": "ipython",
    "version": 3
   },
   "file_extension": ".py",
   "mimetype": "text/x-python",
   "name": "python",
   "nbconvert_exporter": "python",
   "pygments_lexer": "ipython3",
   "version": "3.5.3"
  }
 },
 "nbformat": 4,
 "nbformat_minor": 2
}
